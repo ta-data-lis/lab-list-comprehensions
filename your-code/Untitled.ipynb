{
 "cells": [
  {
   "cell_type": "code",
   "execution_count": 30,
   "id": "d81f72cf",
   "metadata": {},
   "outputs": [
    {
     "data": {
      "text/plain": [
       "['sample_file_1.csv',\n",
       " 'sample_file_0.csv',\n",
       " 'sample_file_2.csv',\n",
       " 'sample_file_3.csv',\n",
       " 'sample_file_7.csv',\n",
       " 'sample_file_6.csv',\n",
       " 'sample_file_4.csv',\n",
       " 'sample_file_5.csv',\n",
       " 'sample_file_8.csv',\n",
       " 'sample_file_9.csv']"
      ]
     },
     "execution_count": 30,
     "metadata": {},
     "output_type": "execute_result"
    }
   ],
   "source": [
    "import os\n",
    "lst = os.listdir('/Users/arthurspriet/Desktop/Lab 1/lab-list-comprehensions/data')\n",
    "lst_2 = [i for i in lst if i[-1] == 'v']\n",
    "lst_2"
   ]
  },
  {
   "cell_type": "code",
   "execution_count": null,
   "id": "35b248cd",
   "metadata": {},
   "outputs": [],
   "source": []
  },
  {
   "cell_type": "code",
   "execution_count": null,
   "id": "7656320e",
   "metadata": {},
   "outputs": [],
   "source": [
    "def playound_enter_room() : \n",
    "    playsound('')"
   ]
  }
 ],
 "metadata": {
  "kernelspec": {
   "display_name": "Python 3",
   "language": "python",
   "name": "python3"
  },
  "language_info": {
   "codemirror_mode": {
    "name": "ipython",
    "version": 3
   },
   "file_extension": ".py",
   "mimetype": "text/x-python",
   "name": "python",
   "nbconvert_exporter": "python",
   "pygments_lexer": "ipython3",
   "version": "3.8.8"
  }
 },
 "nbformat": 4,
 "nbformat_minor": 5
}
