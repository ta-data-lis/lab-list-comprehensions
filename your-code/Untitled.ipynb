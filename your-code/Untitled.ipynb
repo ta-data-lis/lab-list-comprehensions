{
 "cells": [
  {
   "cell_type": "code",
   "execution_count": 1,
   "id": "b2cc98ff",
   "metadata": {},
   "outputs": [
    {
     "ename": "NameError",
     "evalue": "name 'os' is not defined",
     "output_type": "error",
     "traceback": [
      "\u001b[0;31m---------------------------------------------------------------------------\u001b[0m",
      "\u001b[0;31mNameError\u001b[0m                                 Traceback (most recent call last)",
      "\u001b[0;32m<ipython-input-1-eac2f171ae56>\u001b[0m in \u001b[0;36m<module>\u001b[0;34m\u001b[0m\n\u001b[1;32m      1\u001b[0m \u001b[0mpath\u001b[0m \u001b[0;34m=\u001b[0m \u001b[0;34m\"/Users/barbaramuniz/Desktop/LABS/lab-list-comprehensions/data\"\u001b[0m\u001b[0;34m\u001b[0m\u001b[0;34m\u001b[0m\u001b[0m\n\u001b[0;32m----> 2\u001b[0;31m \u001b[0mcomprehension_7\u001b[0m\u001b[0;34m=\u001b[0m\u001b[0;34m[\u001b[0m\u001b[0mfiles\u001b[0m \u001b[0;32mfor\u001b[0m \u001b[0mfiles\u001b[0m \u001b[0;32min\u001b[0m \u001b[0mos\u001b[0m\u001b[0;34m.\u001b[0m\u001b[0mlistdir\u001b[0m\u001b[0;34m(\u001b[0m\u001b[0mpath\u001b[0m\u001b[0;34m)\u001b[0m\u001b[0;34m]\u001b[0m\u001b[0;34m\u001b[0m\u001b[0;34m\u001b[0m\u001b[0m\n\u001b[0m\u001b[1;32m      3\u001b[0m \u001b[0mprint\u001b[0m\u001b[0;34m(\u001b[0m\u001b[0mcomprehension_7\u001b[0m\u001b[0;34m)\u001b[0m\u001b[0;34m\u001b[0m\u001b[0;34m\u001b[0m\u001b[0m\n",
      "\u001b[0;31mNameError\u001b[0m: name 'os' is not defined"
     ]
    }
   ],
   "source": [
    "path = \"/Users/barbaramuniz/Desktop/LABS/lab-list-comprehensions/data\"\n",
    "comprehension_7=[files for files in os.listdir(path)]\n",
    "print(comprehension_7)"
   ]
  },
  {
   "cell_type": "code",
   "execution_count": 5,
   "id": "f0324336",
   "metadata": {},
   "outputs": [
    {
     "name": "stdout",
     "output_type": "stream",
     "text": [
      "['sample_file_8.txt', 'sample_file_9.txt', 'sample_file_1.csv', 'sample_file_0.csv', 'sample_file_2.csv', 'sample_file_3.csv', 'sample_file_7.csv', 'sample_file_6.csv', 'sample_file_4.csv', 'sample_file_5.csv', 'sample_file_8.csv', 'sample_file_9.csv', 'sample_file_2.txt', 'sample_file_3.txt', 'sample_file_1.txt', 'sample_file_0.txt', 'sample_file_4.txt', 'sample_file_5.txt', 'sample_file_7.txt', 'sample_file_6.txt']\n"
     ]
    }
   ],
   "source": [
    "import os\n",
    "path = \"/Users/barbaramuniz/Desktop/LABS/lab-list-comprehensions/data\"\n",
    "comprehension_7=[files for files in os.listdir(path) if os.path.isfile(os.path.join(path,files))]\n",
    "print(comprehension_7)"
   ]
  },
  {
   "cell_type": "code",
   "execution_count": 11,
   "id": "4e56f766",
   "metadata": {},
   "outputs": [
    {
     "name": "stdout",
     "output_type": "stream",
     "text": [
      "['sample_file_1.csv', 'sample_file_0.csv', 'sample_file_2.csv', 'sample_file_3.csv', 'sample_file_7.csv', 'sample_file_6.csv', 'sample_file_4.csv', 'sample_file_5.csv', 'sample_file_8.csv', 'sample_file_9.csv']\n"
     ]
    }
   ],
   "source": [
    "from os import listdir\n",
    "CSV_Files = [file for file in listdir('/Users/barbaramuniz/Desktop/LABS/lab-list-comprehensions/data') if file.endswith('.csv')]\n",
    "print(CSV_Files)"
   ]
  },
  {
   "cell_type": "code",
   "execution_count": null,
   "id": "b950053a",
   "metadata": {},
   "outputs": [],
   "source": []
  },
  {
   "cell_type": "code",
   "execution_count": null,
   "id": "9db2e84e",
   "metadata": {},
   "outputs": [],
   "source": []
  }
 ],
 "metadata": {
  "kernelspec": {
   "display_name": "Python 3",
   "language": "python",
   "name": "python3"
  },
  "language_info": {
   "codemirror_mode": {
    "name": "ipython",
    "version": 3
   },
   "file_extension": ".py",
   "mimetype": "text/x-python",
   "name": "python",
   "nbconvert_exporter": "python",
   "pygments_lexer": "ipython3",
   "version": "3.8.8"
  }
 },
 "nbformat": 4,
 "nbformat_minor": 5
}
