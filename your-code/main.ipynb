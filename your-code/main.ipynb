{
 "cells": [
  {
   "cell_type": "markdown",
   "metadata": {},
   "source": [
    "# List Comprehensions Lab\n",
    "\n",
    "Complete the following set of exercises to solidify your knowledge of list comprehensions."
   ]
  },
  {
   "cell_type": "code",
   "execution_count": 22,
   "metadata": {},
   "outputs": [
    {
     "data": {
      "text/plain": [
       "['/Users/marie/Documents/GitHub/lab-list-comprehensions/your-code',\n",
       " '/usr/local/Cellar/jupyterlab/1.2.4/libexec/lib/python37.zip',\n",
       " '/usr/local/Cellar/jupyterlab/1.2.4/libexec/lib/python3.7',\n",
       " '/usr/local/Cellar/jupyterlab/1.2.4/libexec/lib/python3.7/lib-dynload',\n",
       " '/usr/local/opt/python/Frameworks/Python.framework/Versions/3.7/lib/python3.7',\n",
       " '',\n",
       " '/usr/local/Cellar/jupyterlab/1.2.4/libexec/lib/python3.7/site-packages',\n",
       " '/usr/local/Cellar/jupyterlab/1.2.4/libexec/lib/python3.7/site-packages/IPython/extensions',\n",
       " '/Users/marie/.ipython']"
      ]
     },
     "execution_count": 22,
     "metadata": {},
     "output_type": "execute_result"
    }
   ],
   "source": [
    "import sys\n",
    "sys.path"
   ]
  },
  {
   "cell_type": "code",
   "execution_count": 23,
   "metadata": {},
   "outputs": [],
   "source": [
    "import os\n",
    "import numpy as np\n",
    "import pandas as pd"
   ]
  },
  {
   "cell_type": "markdown",
   "metadata": {},
   "source": [
    "### 1. Use a list comprehension to create and print a list of consecutive integers starting with 1 and ending with 50."
   ]
  },
  {
   "cell_type": "code",
   "execution_count": null,
   "metadata": {},
   "outputs": [],
   "source": [
    "consecutive_int = [i for i in range(1, 51)]\n",
    "print(consecutive_int)"
   ]
  },
  {
   "cell_type": "markdown",
   "metadata": {},
   "source": [
    "### 2. Use a list comprehension to create and print a list of even numbers starting with 2 and ending with 200."
   ]
  },
  {
   "cell_type": "code",
   "execution_count": null,
   "metadata": {},
   "outputs": [],
   "source": [
    "even_nb = [i for i in range (2, 201) if i % 2 == 0]\n",
    "print(even_nb)"
   ]
  },
  {
   "cell_type": "markdown",
   "metadata": {},
   "source": [
    "### 3. Use a list comprehension to create and print a list containing all elements of the 10 x 4 Numpy array below."
   ]
  },
  {
   "cell_type": "code",
   "execution_count": 19,
   "metadata": {},
   "outputs": [
    {
     "ename": "NameError",
     "evalue": "name 'np' is not defined",
     "output_type": "error",
     "traceback": [
      "\u001b[0;31m---------------------------------------------------------------------------\u001b[0m",
      "\u001b[0;31mNameError\u001b[0m                                 Traceback (most recent call last)",
      "\u001b[0;32m<ipython-input-19-9d788d0867df>\u001b[0m in \u001b[0;36m<module>\u001b[0;34m\u001b[0m\n\u001b[0;32m----> 1\u001b[0;31m a = np.array([[0.84062117, 0.48006452, 0.7876326 , 0.77109654],\n\u001b[0m\u001b[1;32m      2\u001b[0m        \u001b[0;34m[\u001b[0m\u001b[0;36m0.44409793\u001b[0m\u001b[0;34m,\u001b[0m \u001b[0;36m0.09014516\u001b[0m\u001b[0;34m,\u001b[0m \u001b[0;36m0.81835917\u001b[0m\u001b[0;34m,\u001b[0m \u001b[0;36m0.87645456\u001b[0m\u001b[0;34m]\u001b[0m\u001b[0;34m,\u001b[0m\u001b[0;34m\u001b[0m\u001b[0;34m\u001b[0m\u001b[0m\n\u001b[1;32m      3\u001b[0m        \u001b[0;34m[\u001b[0m\u001b[0;36m0.7066597\u001b[0m \u001b[0;34m,\u001b[0m \u001b[0;36m0.09610873\u001b[0m\u001b[0;34m,\u001b[0m \u001b[0;36m0.41247947\u001b[0m\u001b[0;34m,\u001b[0m \u001b[0;36m0.57433389\u001b[0m\u001b[0;34m]\u001b[0m\u001b[0;34m,\u001b[0m\u001b[0;34m\u001b[0m\u001b[0;34m\u001b[0m\u001b[0m\n\u001b[1;32m      4\u001b[0m        \u001b[0;34m[\u001b[0m\u001b[0;36m0.29960807\u001b[0m\u001b[0;34m,\u001b[0m \u001b[0;36m0.42315023\u001b[0m\u001b[0;34m,\u001b[0m \u001b[0;36m0.34452557\u001b[0m\u001b[0;34m,\u001b[0m \u001b[0;36m0.4751035\u001b[0m \u001b[0;34m]\u001b[0m\u001b[0;34m,\u001b[0m\u001b[0;34m\u001b[0m\u001b[0;34m\u001b[0m\u001b[0m\n\u001b[1;32m      5\u001b[0m        \u001b[0;34m[\u001b[0m\u001b[0;36m0.17003563\u001b[0m\u001b[0;34m,\u001b[0m \u001b[0;36m0.46843998\u001b[0m\u001b[0;34m,\u001b[0m \u001b[0;36m0.92796258\u001b[0m\u001b[0;34m,\u001b[0m \u001b[0;36m0.69814654\u001b[0m\u001b[0;34m]\u001b[0m\u001b[0;34m,\u001b[0m\u001b[0;34m\u001b[0m\u001b[0;34m\u001b[0m\u001b[0m\n",
      "\u001b[0;31mNameError\u001b[0m: name 'np' is not defined"
     ]
    }
   ],
   "source": [
    "a = np.array([[0.84062117, 0.48006452, 0.7876326 , 0.77109654],\n",
    "       [0.44409793, 0.09014516, 0.81835917, 0.87645456],\n",
    "       [0.7066597 , 0.09610873, 0.41247947, 0.57433389],\n",
    "       [0.29960807, 0.42315023, 0.34452557, 0.4751035 ],\n",
    "       [0.17003563, 0.46843998, 0.92796258, 0.69814654],\n",
    "       [0.41290051, 0.19561071, 0.16284783, 0.97016248],\n",
    "       [0.71725408, 0.87702738, 0.31244595, 0.76615487],\n",
    "       [0.20754036, 0.57871812, 0.07214068, 0.40356048],\n",
    "       [0.12149553, 0.53222417, 0.9976855 , 0.12536346],\n",
    "       [0.80930099, 0.50962849, 0.94555126, 0.33364763]])"
   ]
  },
  {
   "cell_type": "code",
   "execution_count": 18,
   "metadata": {},
   "outputs": [
    {
     "ename": "NameError",
     "evalue": "name 'a' is not defined",
     "output_type": "error",
     "traceback": [
      "\u001b[0;31m---------------------------------------------------------------------------\u001b[0m",
      "\u001b[0;31mNameError\u001b[0m                                 Traceback (most recent call last)",
      "\u001b[0;32m<ipython-input-18-177380182afa>\u001b[0m in \u001b[0;36m<module>\u001b[0;34m\u001b[0m\n\u001b[0;32m----> 1\u001b[0;31m \u001b[0mlst\u001b[0m \u001b[0;34m=\u001b[0m \u001b[0;34m[\u001b[0m\u001b[0mx\u001b[0m \u001b[0;32mfor\u001b[0m \u001b[0mlst\u001b[0m \u001b[0;32min\u001b[0m \u001b[0ma\u001b[0m \u001b[0;32mfor\u001b[0m \u001b[0mx\u001b[0m \u001b[0;32min\u001b[0m \u001b[0mlst\u001b[0m\u001b[0;34m]\u001b[0m\u001b[0;34m\u001b[0m\u001b[0;34m\u001b[0m\u001b[0m\n\u001b[0m\u001b[1;32m      2\u001b[0m \u001b[0mprint\u001b[0m\u001b[0;34m(\u001b[0m\u001b[0mlst\u001b[0m\u001b[0;34m)\u001b[0m\u001b[0;34m\u001b[0m\u001b[0;34m\u001b[0m\u001b[0m\n",
      "\u001b[0;31mNameError\u001b[0m: name 'a' is not defined"
     ]
    }
   ],
   "source": [
    "lst = [x for lst in a for x in lst]\n",
    "print(lst)"
   ]
  },
  {
   "cell_type": "markdown",
   "metadata": {},
   "source": [
    "### 4. Add a condition to the list comprehension above so that only values greater than or equal to 0.5 are printed."
   ]
  },
  {
   "cell_type": "code",
   "execution_count": null,
   "metadata": {},
   "outputs": [],
   "source": [
    "new_a = [x for new_a in a for x in new_a if x >= 0.5]\n",
    "print(new_a)"
   ]
  },
  {
   "cell_type": "markdown",
   "metadata": {},
   "source": [
    "### 5. Use a list comprehension to create and print a list containing all elements of the 5 x 2 x 3 Numpy array below."
   ]
  },
  {
   "cell_type": "code",
   "execution_count": 121,
   "metadata": {},
   "outputs": [],
   "source": [
    "b = np.array([[[0.55867166, 0.06210792, 0.08147297],\n",
    "        [0.82579068, 0.91512478, 0.06833034]],\n",
    "\n",
    "       [[0.05440634, 0.65857693, 0.30296619],\n",
    "        [0.06769833, 0.96031863, 0.51293743]],\n",
    "\n",
    "       [[0.09143215, 0.71893382, 0.45850679],\n",
    "        [0.58256464, 0.59005654, 0.56266457]],\n",
    "\n",
    "       [[0.71600294, 0.87392666, 0.11434044],\n",
    "        [0.8694668 , 0.65669313, 0.10708681]],\n",
    "\n",
    "       [[0.07529684, 0.46470767, 0.47984544],\n",
    "        [0.65368638, 0.14901286, 0.23760688]]])"
   ]
  },
  {
   "cell_type": "code",
   "execution_count": 139,
   "metadata": {},
   "outputs": [
    {
     "name": "stdout",
     "output_type": "stream",
     "text": [
      "[0.55867166, 0.06210792, 0.08147297, 0.82579068, 0.91512478, 0.06833034, 0.05440634, 0.65857693, 0.30296619, 0.06769833, 0.96031863, 0.51293743, 0.09143215, 0.71893382, 0.45850679, 0.58256464, 0.59005654, 0.56266457, 0.71600294, 0.87392666, 0.11434044, 0.8694668, 0.65669313, 0.10708681, 0.07529684, 0.46470767, 0.47984544, 0.65368638, 0.14901286, 0.23760688]\n"
     ]
    }
   ],
   "source": [
    "b_b = [x for lst in b for lst_lst in lst for x in lst_lst]\n",
    "print(b_b)"
   ]
  },
  {
   "cell_type": "markdown",
   "metadata": {},
   "source": [
    "### 6. Add a condition to the list comprehension above so that the last value in each subarray is printed, but only if it is less than or equal to 0.5."
   ]
  },
  {
   "cell_type": "code",
   "execution_count": 155,
   "metadata": {},
   "outputs": [
    {
     "name": "stdout",
     "output_type": "stream",
     "text": [
      "[0.08147297, 0.06833034, 0.30296619, 0.45850679, 0.11434044, 0.10708681, 0.47984544, 0.23760688]\n"
     ]
    }
   ],
   "source": [
    "b_b = [lst_lst[-1] for lst in b for lst_lst in lst if lst_lst[-1]<= 0.5]\n",
    "print(b_b)"
   ]
  },
  {
   "cell_type": "markdown",
   "metadata": {},
   "source": [
    "### 7. Use a list comprehension to select and print the names of all CSV files in the */data* directory."
   ]
  },
  {
   "cell_type": "code",
   "execution_count": 26,
   "metadata": {},
   "outputs": [
    {
     "name": "stdout",
     "output_type": "stream",
     "text": [
      "['sample_file_1.csv', 'sample_file_0.csv', 'sample_file_2.csv', 'sample_file_3.csv', 'sample_file_7.csv', 'sample_file_6.csv', 'sample_file_4.csv', 'sample_file_5.csv', 'sample_file_8.csv', 'sample_file_9.csv']\n"
     ]
    }
   ],
   "source": [
    "import os\n",
    "path = \"/Users/marie/Documents/GitHub/lab-list-comprehensions/data\"\n",
    "csv_files = [i for i in os.listdir(path) if i.endswith('.csv')]\n",
    "print(csv_files)"
   ]
  },
  {
   "cell_type": "markdown",
   "metadata": {},
   "source": [
    "### 8. Use a list comprehension and the Pandas `read_csv` and `concat` methods to read all CSV files in the */data* directory and combine them into a single data frame. Display the top 10 rows of the resulting data frame."
   ]
  },
  {
   "cell_type": "code",
   "execution_count": 66,
   "metadata": {},
   "outputs": [
    {
     "name": "stdout",
     "output_type": "stream",
     "text": [
      "          0         1         2         3         4         5         6  \\\n",
      "0  0.276827  0.260054  0.942397  0.113187  0.781355  0.475740  0.152061   \n",
      "1  0.995885  0.158381  0.244274  0.962163  0.651900  0.930665  0.577190   \n",
      "2  0.641917  0.821055  0.392437  0.782617  0.510762  0.428320  0.017324   \n",
      "3  0.806532  0.569258  0.148175  0.809987  0.459632  0.735762  0.730664   \n",
      "4  0.311185  0.501165  0.365979  0.782807  0.776795  0.797199  0.791946   \n",
      "0  0.734751  0.195362  0.734309  0.598184  0.763433  0.263434  0.868066   \n",
      "1  0.772607  0.445391  0.249642  0.787922  0.598583  0.827238  0.624126   \n",
      "2  0.226428  0.268764  0.694262  0.622335  0.063843  0.122683  0.815625   \n",
      "3  0.362748  0.495430  0.113876  0.594149  0.612522  0.625204  0.864050   \n",
      "4  0.033415  0.340433  0.464971  0.363737  0.025815  0.434129  0.415163   \n",
      "\n",
      "          7         8         9        10        11        12        13  \\\n",
      "0  0.250324  0.147078  0.162984  0.977025  0.509619  0.593212  0.911839   \n",
      "1  0.087914  0.960261  0.580840  0.194616  0.661459  0.674085  0.049326   \n",
      "2  0.680720  0.340412  0.462513  0.785776  0.251949  0.032847  0.995700   \n",
      "3  0.934502  0.080322  0.763502  0.398504  0.027637  0.409665  0.942846   \n",
      "4  0.847157  0.771811  0.233944  0.522344  0.053030  0.208551  0.824354   \n",
      "0  0.058092  0.753502  0.587513  0.311608  0.178356  0.182922  0.147631   \n",
      "1  0.601524  0.688753  0.338870  0.081595  0.471474  0.267443  0.453351   \n",
      "2  0.584542  0.032594  0.589775  0.764350  0.650973  0.565705  0.691784   \n",
      "3  0.260279  0.528873  0.168043  0.715929  0.677014  0.175735  0.632370   \n",
      "4  0.892210  0.381701  0.415264  0.790801  0.696930  0.819751  0.944029   \n",
      "\n",
      "         14        15        16        17        18        19  \n",
      "0  0.257645  0.386457  0.696932  0.069162  0.952291  0.286542  \n",
      "1  0.785803  0.315645  0.495355  0.232135  0.549324  0.572232  \n",
      "2  0.816563  0.735692  0.435998  0.430411  0.531757  0.489528  \n",
      "3  0.133256  0.157158  0.929446  0.402791  0.685976  0.246594  \n",
      "4  0.588567  0.604341  0.232964  0.229109  0.022881  0.479022  \n",
      "0  0.391188  0.816049  0.749068  0.293260  0.937828  0.880858  \n",
      "1  0.800716  0.045749  0.683793  0.389789  0.016787  0.503695  \n",
      "2  0.265223  0.739031  0.560394  0.334802  0.517694  0.646110  \n",
      "3  0.926715  0.085675  0.120525  0.141746  0.771144  0.489660  \n",
      "4  0.869965  0.041723  0.819140  0.676051  0.109349  0.872947  \n"
     ]
    }
   ],
   "source": [
    "import pandas as pd\n",
    "all_datas = pd.DataFrame()\n",
    "for file in csv_files:\n",
    "    all_datas = pd.concat([all_datas, pd.read_csv(path + \"/\" + file)])\n",
    "print(all_datas.head(n = 10))"
   ]
  },
  {
   "cell_type": "markdown",
   "metadata": {},
   "source": [
    "### 9. Use a list comprehension to select and print the column numbers for columns from the data set whose median is less than 0.48."
   ]
  },
  {
   "cell_type": "code",
   "execution_count": 109,
   "metadata": {},
   "outputs": [
    {
     "name": "stdout",
     "output_type": "stream",
     "text": [
      "['2', '9', '12', '14', '17', '20']\n"
     ]
    }
   ],
   "source": [
    "selected_columns = [col for col in all_datas._get_numeric_data() if all_datas[col].median() < 0.48]\n",
    "print(selected_columns)"
   ]
  },
  {
   "cell_type": "markdown",
   "metadata": {},
   "source": [
    "### 10. Use a list comprehension to add a new column (20) to the data frame whose values are the values in column 19 minus 0.1. Display the top 10 rows of the resulting data frame."
   ]
  },
  {
   "cell_type": "code",
   "execution_count": 71,
   "metadata": {},
   "outputs": [
    {
     "name": "stdout",
     "output_type": "stream",
     "text": [
      "          0         1         2         3         4         5         6  \\\n",
      "0  0.276827  0.260054  0.942397  0.113187  0.781355  0.475740  0.152061   \n",
      "1  0.995885  0.158381  0.244274  0.962163  0.651900  0.930665  0.577190   \n",
      "2  0.641917  0.821055  0.392437  0.782617  0.510762  0.428320  0.017324   \n",
      "3  0.806532  0.569258  0.148175  0.809987  0.459632  0.735762  0.730664   \n",
      "4  0.311185  0.501165  0.365979  0.782807  0.776795  0.797199  0.791946   \n",
      "0  0.734751  0.195362  0.734309  0.598184  0.763433  0.263434  0.868066   \n",
      "1  0.772607  0.445391  0.249642  0.787922  0.598583  0.827238  0.624126   \n",
      "2  0.226428  0.268764  0.694262  0.622335  0.063843  0.122683  0.815625   \n",
      "3  0.362748  0.495430  0.113876  0.594149  0.612522  0.625204  0.864050   \n",
      "4  0.033415  0.340433  0.464971  0.363737  0.025815  0.434129  0.415163   \n",
      "\n",
      "          7         8         9  ...        11        12        13        14  \\\n",
      "0  0.250324  0.147078  0.162984  ...  0.509619  0.593212  0.911839  0.257645   \n",
      "1  0.087914  0.960261  0.580840  ...  0.661459  0.674085  0.049326  0.785803   \n",
      "2  0.680720  0.340412  0.462513  ...  0.251949  0.032847  0.995700  0.816563   \n",
      "3  0.934502  0.080322  0.763502  ...  0.027637  0.409665  0.942846  0.133256   \n",
      "4  0.847157  0.771811  0.233944  ...  0.053030  0.208551  0.824354  0.588567   \n",
      "0  0.058092  0.753502  0.587513  ...  0.178356  0.182922  0.147631  0.391188   \n",
      "1  0.601524  0.688753  0.338870  ...  0.471474  0.267443  0.453351  0.800716   \n",
      "2  0.584542  0.032594  0.589775  ...  0.650973  0.565705  0.691784  0.265223   \n",
      "3  0.260279  0.528873  0.168043  ...  0.677014  0.175735  0.632370  0.926715   \n",
      "4  0.892210  0.381701  0.415264  ...  0.696930  0.819751  0.944029  0.869965   \n",
      "\n",
      "         15        16        17        18        19        20  \n",
      "0  0.386457  0.696932  0.069162  0.952291  0.286542  0.186542  \n",
      "1  0.315645  0.495355  0.232135  0.549324  0.572232  0.472232  \n",
      "2  0.735692  0.435998  0.430411  0.531757  0.489528  0.389528  \n",
      "3  0.157158  0.929446  0.402791  0.685976  0.246594  0.146594  \n",
      "4  0.604341  0.232964  0.229109  0.022881  0.479022  0.379022  \n",
      "0  0.816049  0.749068  0.293260  0.937828  0.880858  0.780858  \n",
      "1  0.045749  0.683793  0.389789  0.016787  0.503695  0.403695  \n",
      "2  0.739031  0.560394  0.334802  0.517694  0.646110  0.546110  \n",
      "3  0.085675  0.120525  0.141746  0.771144  0.489660  0.389660  \n",
      "4  0.041723  0.819140  0.676051  0.109349  0.872947  0.772947  \n",
      "\n",
      "[10 rows x 21 columns]\n"
     ]
    }
   ],
   "source": [
    "all_datas['20'] = [x - 0.1 for x in all_datas['19']]\n",
    "print(all_datas.head(n = 10))"
   ]
  },
  {
   "cell_type": "markdown",
   "metadata": {},
   "source": [
    "### 11. Use a list comprehension to extract and print all values from the data set that are between 0.7 and 0.75."
   ]
  },
  {
   "cell_type": "code",
   "execution_count": 156,
   "metadata": {
    "scrolled": true
   },
   "outputs": [
    {
     "ename": "NameError",
     "evalue": "name 'row' is not defined",
     "output_type": "error",
     "traceback": [
      "\u001b[0;31m---------------------------------------------------------------------------\u001b[0m",
      "\u001b[0;31mNameError\u001b[0m                                 Traceback (most recent call last)",
      "\u001b[0;32m<ipython-input-156-2c3aac82bdd1>\u001b[0m in \u001b[0;36m<module>\u001b[0;34m\u001b[0m\n\u001b[0;32m----> 1\u001b[0;31m \u001b[0mr_values\u001b[0m \u001b[0;34m=\u001b[0m \u001b[0;34m[\u001b[0m\u001b[0mrow\u001b[0m \u001b[0;32mfor\u001b[0m \u001b[0mrow\u001b[0m \u001b[0;32min\u001b[0m \u001b[0mall_datas\u001b[0m\u001b[0;34m[\u001b[0m\u001b[0mrow\u001b[0m\u001b[0;34m]\u001b[0m\u001b[0;34m.\u001b[0m\u001b[0m_get_numeric_data\u001b[0m\u001b[0;34m(\u001b[0m\u001b[0;34m)\u001b[0m \u001b[0;32mif\u001b[0m \u001b[0mrow\u001b[0m \u001b[0;34m>=\u001b[0m \u001b[0;36m0.7\u001b[0m \u001b[0;34m&\u001b[0m \u001b[0mrow\u001b[0m \u001b[0;34m<=\u001b[0m \u001b[0;36m0.75\u001b[0m\u001b[0;34m]\u001b[0m\u001b[0;34m\u001b[0m\u001b[0;34m\u001b[0m\u001b[0m\n\u001b[0m\u001b[1;32m      2\u001b[0m \u001b[0mprint\u001b[0m\u001b[0;34m(\u001b[0m\u001b[0mr_values\u001b[0m\u001b[0;34m)\u001b[0m\u001b[0;34m\u001b[0m\u001b[0;34m\u001b[0m\u001b[0m\n",
      "\u001b[0;31mNameError\u001b[0m: name 'row' is not defined"
     ]
    }
   ],
   "source": [
    "r_values = [row for row in all_datas[row]._get_numeric_data() if row >= 0.7 & row <= 0.75]\n",
    "print(r_values)"
   ]
  },
  {
   "cell_type": "code",
   "execution_count": null,
   "metadata": {},
   "outputs": [],
   "source": []
  }
 ],
 "metadata": {
  "kernelspec": {
   "display_name": "Python 3",
   "language": "python",
   "name": "python3"
  },
  "language_info": {
   "codemirror_mode": {
    "name": "ipython",
    "version": 3
   },
   "file_extension": ".py",
   "mimetype": "text/x-python",
   "name": "python",
   "nbconvert_exporter": "python",
   "pygments_lexer": "ipython3",
   "version": "3.7.5"
  }
 },
 "nbformat": 4,
 "nbformat_minor": 2
}
