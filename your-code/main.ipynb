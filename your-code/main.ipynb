{
 "cells": [
  {
   "cell_type": "markdown",
   "metadata": {},
   "source": [
    "# List Comprehensions Lab\n",
    "\n",
    "Complete the following set of exercises to solidify your knowledge of list comprehensions."
   ]
  },
  {
   "cell_type": "code",
   "execution_count": 1,
   "metadata": {},
   "outputs": [],
   "source": [
    "import os\n",
    "import numpy as np\n",
    "import pandas as pd"
   ]
  },
  {
   "cell_type": "markdown",
   "metadata": {},
   "source": [
    "### 1. Use a list comprehension to create and print a list of consecutive integers starting with 1 and ending with 50."
   ]
  },
  {
   "cell_type": "code",
   "execution_count": 2,
   "metadata": {},
   "outputs": [
    {
     "name": "stdout",
     "output_type": "stream",
     "text": "[1, 2, 3, 4, 5, 6, 7, 8, 9, 10, 11, 12, 13, 14, 15, 16, 17, 18, 19, 20, 21, 22, 23, 24, 25, 26, 27, 28, 29, 30, 31, 32, 33, 34, 35, 36, 37, 38, 39, 40, 41, 42, 43, 44, 45, 46, 47, 48, 49, 50]\n"
    }
   ],
   "source": [
    "lst = [numb for numb in range(1,51)]\n",
    "print(lst)"
   ]
  },
  {
   "cell_type": "markdown",
   "metadata": {},
   "source": [
    "### 2. Use a list comprehension to create and print a list of even numbers starting with 2 and ending with 200."
   ]
  },
  {
   "cell_type": "code",
   "execution_count": 3,
   "metadata": {},
   "outputs": [
    {
     "name": "stdout",
     "output_type": "stream",
     "text": "[2, 4, 6, 8, 10, 12, 14, 16, 18, 20, 22, 24, 26, 28, 30, 32, 34, 36, 38, 40, 42, 44, 46, 48, 50, 52, 54, 56, 58, 60, 62, 64, 66, 68, 70, 72, 74, 76, 78, 80, 82, 84, 86, 88, 90, 92, 94, 96, 98, 100, 102, 104, 106, 108, 110, 112, 114, 116, 118, 120, 122, 124, 126, 128, 130, 132, 134, 136, 138, 140, 142, 144, 146, 148, 150, 152, 154, 156, 158, 160, 162, 164, 166, 168, 170, 172, 174, 176, 178, 180, 182, 184, 186, 188, 190, 192, 194, 196, 198, 200]\n"
    }
   ],
   "source": [
    "lst_even = [numb for numb in range(1,201) if numb % 2 == 0]\n",
    "print(lst_even)"
   ]
  },
  {
   "cell_type": "markdown",
   "metadata": {},
   "source": [
    "### 3. Use a list comprehension to create and print a list containing all elements of the 10 x 4 Numpy array below."
   ]
  },
  {
   "cell_type": "code",
   "execution_count": 4,
   "metadata": {},
   "outputs": [
    {
     "name": "stdout",
     "output_type": "stream",
     "text": "[0.84062117, 0.48006452, 0.7876326, 0.77109654, 0.44409793, 0.09014516, 0.81835917, 0.87645456, 0.7066597, 0.09610873, 0.41247947, 0.57433389, 0.29960807, 0.42315023, 0.34452557, 0.4751035, 0.17003563, 0.46843998, 0.92796258, 0.69814654, 0.41290051, 0.19561071, 0.16284783, 0.97016248, 0.71725408, 0.87702738, 0.31244595, 0.76615487, 0.20754036, 0.57871812, 0.07214068, 0.40356048, 0.12149553, 0.53222417, 0.9976855, 0.12536346, 0.80930099, 0.50962849, 0.94555126, 0.33364763]\n"
    }
   ],
   "source": [
    "a = np.array([[0.84062117, 0.48006452, 0.7876326 , 0.77109654],\n",
    "       [0.44409793, 0.09014516, 0.81835917, 0.87645456],\n",
    "       [0.7066597 , 0.09610873, 0.41247947, 0.57433389],\n",
    "       [0.29960807, 0.42315023, 0.34452557, 0.4751035 ],\n",
    "       [0.17003563, 0.46843998, 0.92796258, 0.69814654],\n",
    "       [0.41290051, 0.19561071, 0.16284783, 0.97016248],\n",
    "       [0.71725408, 0.87702738, 0.31244595, 0.76615487],\n",
    "       [0.20754036, 0.57871812, 0.07214068, 0.40356048],\n",
    "       [0.12149553, 0.53222417, 0.9976855 , 0.12536346],\n",
    "       [0.80930099, 0.50962849, 0.94555126, 0.33364763]])\n",
    "\n",
    "lst_a = [numb for inner_list in a for numb in inner_list]\n",
    "print(lst_a)"
   ]
  },
  {
   "cell_type": "markdown",
   "metadata": {},
   "source": [
    "### 4. Add a condition to the list comprehension above so that only values greater than or equal to 0.5 are printed."
   ]
  },
  {
   "cell_type": "code",
   "execution_count": 5,
   "metadata": {},
   "outputs": [
    {
     "name": "stdout",
     "output_type": "stream",
     "text": "[0.84062117, 0.7876326, 0.77109654, 0.81835917, 0.87645456, 0.7066597, 0.57433389, 0.92796258, 0.69814654, 0.97016248, 0.71725408, 0.87702738, 0.76615487, 0.57871812, 0.53222417, 0.9976855, 0.80930099, 0.50962849, 0.94555126]\n"
    }
   ],
   "source": [
    "lst_b = [p for m in a for p in m if p >= .5]\n",
    "print(lst_b)"
   ]
  },
  {
   "cell_type": "markdown",
   "metadata": {},
   "source": [
    "### 5. Use a list comprehension to create and print a list containing all elements of the 5 x 2 x 3 Numpy array below."
   ]
  },
  {
   "cell_type": "code",
   "execution_count": 6,
   "metadata": {},
   "outputs": [
    {
     "name": "stdout",
     "output_type": "stream",
     "text": "[0.55867166, 0.06210792, 0.08147297, 0.82579068, 0.91512478, 0.06833034, 0.05440634, 0.65857693, 0.30296619, 0.06769833, 0.96031863, 0.51293743, 0.09143215, 0.71893382, 0.45850679, 0.58256464, 0.59005654, 0.56266457, 0.71600294, 0.87392666, 0.11434044, 0.8694668, 0.65669313, 0.10708681, 0.07529684, 0.46470767, 0.47984544, 0.65368638, 0.14901286, 0.23760688]\n"
    }
   ],
   "source": [
    "b = np.array([[[0.55867166, 0.06210792, 0.08147297],\n",
    "        [0.82579068, 0.91512478, 0.06833034]],\n",
    "\n",
    "       [[0.05440634, 0.65857693, 0.30296619],\n",
    "        [0.06769833, 0.96031863, 0.51293743]],\n",
    "\n",
    "       [[0.09143215, 0.71893382, 0.45850679],\n",
    "        [0.58256464, 0.59005654, 0.56266457]],\n",
    "\n",
    "       [[0.71600294, 0.87392666, 0.11434044],\n",
    "        [0.8694668 , 0.65669313, 0.10708681]],\n",
    "\n",
    "       [[0.07529684, 0.46470767, 0.47984544],\n",
    "        [0.65368638, 0.14901286, 0.23760688]]])\n",
    "\n",
    "lst_c = [v for m in b for s in m for v in s]\n",
    "print(lst_c)\n",
    "# valor para o médio no grande, \n",
    "# para o pequeno no médio, \n",
    "# para o valor no pequeno\n",
    "\n"
   ]
  },
  {
   "cell_type": "markdown",
   "metadata": {},
   "source": [
    "### 6. Add a condition to the list comprehension above so that the last value in each subarray is printed, but only if it is less than or equal to 0.5."
   ]
  },
  {
   "cell_type": "code",
   "execution_count": 7,
   "metadata": {},
   "outputs": [
    {
     "name": "stdout",
     "output_type": "stream",
     "text": "[0.08147297, 0.06833034, 0.30296619, 0.45850679, 0.11434044, 0.10708681, 0.47984544, 0.23760688]\n"
    }
   ],
   "source": [
    "# print([v for i, v in enumerate(lst_c) if v <= .5 and (i+1)%6==0])\n",
    "#valor para o indice, valor enumerado em q o valor a cada 6 é menor ou igual a 0.5 / solução para subarray do meio 2x\n",
    "\n",
    "print([v for m in b for s in m for i,v in enumerate(s) if v <= .5 and i+1 == len(s)])\n"
   ]
  },
  {
   "cell_type": "markdown",
   "metadata": {},
   "source": [
    "### 7. Use a list comprehension to select and print the names of all CSV files in the */data* directory."
   ]
  },
  {
   "cell_type": "code",
   "execution_count": 8,
   "metadata": {},
   "outputs": [
    {
     "name": "stdout",
     "output_type": "stream",
     "text": "['sample_file_2.csv', 'sample_file_8.csv', 'sample_file_6.csv', 'sample_file_1.csv', 'sample_file_4.csv', 'sample_file_7.csv', 'sample_file_9.csv', 'sample_file_3.csv', 'sample_file_0.csv', 'sample_file_5.csv']\n"
    }
   ],
   "source": [
    "file_list = [file for file in os.listdir('../data') if file.endswith('.csv')]\n",
    "print(file_list)"
   ]
  },
  {
   "cell_type": "markdown",
   "metadata": {},
   "source": [
    "### 8. Use a list comprehension and the Pandas `read_csv` and `concat` methods to read all CSV files in the */data* directory and combine them into a single data frame. Display the top 10 rows of the resulting data frame."
   ]
  },
  {
   "cell_type": "code",
   "execution_count": 9,
   "metadata": {},
   "outputs": [
    {
     "name": "stdout",
     "output_type": "stream",
     "text": "[          0         1         2         3         4         5         6  \\\n0  0.948664  0.215285  0.918270  0.599951  0.755120  0.971609  0.103190   \n1  0.163236  0.803926  0.916655  0.775234  0.644890  0.701362  0.910208   \n2  0.934136  0.031410  0.954057  0.853387  0.642160  0.681184  0.317198   \n3  0.757038  0.918964  0.475459  0.837686  0.149645  0.819032  0.611996   \n4  0.263455  0.816283  0.336707  0.587997  0.285871  0.619942  0.018027   \n0  0.132453  0.106635  0.673568  0.507253  0.162925  0.130042  0.980388   \n1  0.384938  0.767604  0.850528  0.605998  0.826172  0.667488  0.142045   \n2  0.318691  0.675720  0.807189  0.752518  0.531342  0.703225  0.598293   \n3  0.538593  0.291241  0.407187  0.613260  0.851424  0.962086  0.590512   \n4  0.713271  0.156210  0.392800  0.702348  0.009400  0.030304  0.960066   \n\n          7         8         9        10        11        12        13  \\\n0  0.194754  0.932388  0.591727  0.697517  0.607355  0.177649  0.435968   \n1  0.871204  0.321745  0.586035  0.887054  0.240060  0.915342  0.205310   \n2  0.875259  0.538416  0.867511  0.813309  0.215624  0.552062  0.498378   \n3  0.644348  0.938444  0.410444  0.561513  0.499231  0.856437  0.054619   \n4  0.548845  0.121471  0.194299  0.149844  0.848866  0.531840  0.663384   \n0  0.623167  0.074066  0.111557  0.864664  0.093637  0.446974  0.022525   \n1  0.086904  0.912348  0.892183  0.426389  0.776552  0.429496  0.602056   \n2  0.921508  0.563333  0.184300  0.667625  0.270017  0.573440  0.163669   \n3  0.980700  0.159022  0.684265  0.898633  0.470113  0.756593  0.282408   \n4  0.688937  0.260252  0.634608  0.273775  0.264145  0.682941  0.908499   \n\n         14        15        16        17        18        19  \n0  0.202404  0.979777  0.095713  0.159040  0.651457  0.803393  \n1  0.489504  0.848926  0.304342  0.358977  0.841539  0.964889  \n2  0.739656  0.307914  0.233996  0.602166  0.244210  0.313071  \n3  0.326310  0.461825  0.954783  0.361873  0.145952  0.873029  \n4  0.084884  0.120312  0.463214  0.437889  0.542376  0.668447  \n0  0.713369  0.707874  0.563506  0.982256  0.562498  0.968681  \n1  0.283769  0.166793  0.316878  0.688337  0.169525  0.966198  \n2  0.032852  0.689315  0.973684  0.719610  0.163670  0.724486  \n3  0.551369  0.732153  0.494100  0.792803  0.794426  0.837695  \n4  0.450950  0.200761  0.968324  0.221165  0.891382  0.398914  ]\n"
    }
   ],
   "source": [
    "data_sets = [pd.read_csv(os.path.join('../data', file)) for file in file_list]\n",
    "data = pd.concat(data_sets, axis=0)\n",
    "\n",
    "selected_rows = [data.iloc[0:10]]\n",
    "print(selected_rows)\n",
    "\n"
   ]
  },
  {
   "cell_type": "markdown",
   "metadata": {},
   "source": [
    "### 9. Use a list comprehension to select and print the column numbers for columns from the data set whose median is less than 0.48."
   ]
  },
  {
   "cell_type": "code",
   "execution_count": 10,
   "metadata": {},
   "outputs": [
    {
     "name": "stdout",
     "output_type": "stream",
     "text": "['2', '9', '12', '14', '17']\n"
    }
   ],
   "source": [
    "selected_columns = [col for col in data._get_numeric_data() if data[col].median() < .48]\n",
    "print(selected_columns)"
   ]
  },
  {
   "cell_type": "markdown",
   "metadata": {},
   "source": [
    "### 10. Use a list comprehension to add a new column (20) to the data frame whose values are the values in column 19 minus 0.1. Display the top 10 rows of the resulting data frame."
   ]
  },
  {
   "cell_type": "code",
   "execution_count": 17,
   "metadata": {},
   "outputs": [
    {
     "name": "stdout",
     "output_type": "stream",
     "text": "0         1         2         3         4         5         6  \\\n0  0.948664  0.215285  0.918270  0.599951  0.755120  0.971609  0.103190   \n1  0.163236  0.803926  0.916655  0.775234  0.644890  0.701362  0.910208   \n2  0.934136  0.031410  0.954057  0.853387  0.642160  0.681184  0.317198   \n3  0.757038  0.918964  0.475459  0.837686  0.149645  0.819032  0.611996   \n4  0.263455  0.816283  0.336707  0.587997  0.285871  0.619942  0.018027   \n0  0.132453  0.106635  0.673568  0.507253  0.162925  0.130042  0.980388   \n1  0.384938  0.767604  0.850528  0.605998  0.826172  0.667488  0.142045   \n2  0.318691  0.675720  0.807189  0.752518  0.531342  0.703225  0.598293   \n3  0.538593  0.291241  0.407187  0.613260  0.851424  0.962086  0.590512   \n4  0.713271  0.156210  0.392800  0.702348  0.009400  0.030304  0.960066   \n\n          7         8         9  ...        11        12        13        14  \\\n0  0.194754  0.932388  0.591727  ...  0.607355  0.177649  0.435968  0.202404   \n1  0.871204  0.321745  0.586035  ...  0.240060  0.915342  0.205310  0.489504   \n2  0.875259  0.538416  0.867511  ...  0.215624  0.552062  0.498378  0.739656   \n3  0.644348  0.938444  0.410444  ...  0.499231  0.856437  0.054619  0.326310   \n4  0.548845  0.121471  0.194299  ...  0.848866  0.531840  0.663384  0.084884   \n0  0.623167  0.074066  0.111557  ...  0.093637  0.446974  0.022525  0.713369   \n1  0.086904  0.912348  0.892183  ...  0.776552  0.429496  0.602056  0.283769   \n2  0.921508  0.563333  0.184300  ...  0.270017  0.573440  0.163669  0.032852   \n3  0.980700  0.159022  0.684265  ...  0.470113  0.756593  0.282408  0.551369   \n4  0.688937  0.260252  0.634608  ...  0.264145  0.682941  0.908499  0.450950   \n\n         15        16        17        18        19        20  \n0  0.979777  0.095713  0.159040  0.651457  0.803393  0.703393  \n1  0.848926  0.304342  0.358977  0.841539  0.964889  0.864889  \n2  0.307914  0.233996  0.602166  0.244210  0.313071  0.213071  \n3  0.461825  0.954783  0.361873  0.145952  0.873029  0.773029  \n4  0.120312  0.463214  0.437889  0.542376  0.668447  0.568447  \n0  0.707874  0.563506  0.982256  0.562498  0.968681  0.868681  \n1  0.166793  0.316878  0.688337  0.169525  0.966198  0.866198  \n2  0.689315  0.973684  0.719610  0.163670  0.724486  0.624486  \n3  0.732153  0.494100  0.792803  0.794426  0.837695  0.737695  \n4  0.200761  0.968324  0.221165  0.891382  0.398914  0.298914  \n\n[10 rows x 21 columns]\n"
    }
   ],
   "source": [
    "new_column = [d - .1 for d in data[\"19\"]]\n",
    "data[\"20\"] = new_column\n",
    "\n",
    "print(data.iloc[0:10])"
   ]
  },
  {
   "cell_type": "markdown",
   "metadata": {},
   "source": [
    "### 11. Use a list comprehension to extract and print all values from the data set that are between 0.7 and 0.75."
   ]
  },
  {
   "cell_type": "code",
   "execution_count": 22,
   "metadata": {},
   "outputs": [
    {
     "name": "stdout",
     "output_type": "stream",
     "text": "[0.7132714209987683, 0.7025657075988269, 0.7280006345208285, 0.7347510852128797, 0.7258310816144985, 0.736029494090402, 0.7472962776291713, 0.7088042362916818, 0.7358941798147411, 0.7365416322783028, 0.7343092314001137, 0.7023481768180954, 0.7329024831531535, 0.7133695725698419, 0.7476323136755818, 0.7008930873050235, 0.7013619954419494, 0.7032248108904495, 0.7357618655811269, 0.7150799992177622, 0.7173964318670598, 0.7268545088531969, 0.7306642125209889, 0.7383982036983279, 0.7124169515124726, 0.71223975981198, 0.7298115760258881, 0.7051334608870933, 0.7321333453970806, 0.7178166705957928, 0.7374449181749492, 0.7159290265157912, 0.7294980584878026, 0.7215147068185102, 0.7045750112959754, 0.7111584953876777, 0.7209375615129192, 0.7396561066717461, 0.7133690799930356, 0.7303553716733908, 0.7078738356977186, 0.7321533684342264, 0.7356923324968598, 0.7390312927111312, 0.7130781095091867, 0.7085098152301276, 0.7490680818183477, 0.7196096371031628, 0.7264121114538001, 0.7244863338885654, 0.7393833032570581, 0.7033930409580709, 0.7376946446827494, 0.7274869207330491]\n"
    }
   ],
   "source": [
    "all_new_values = [numb for column in data for numb in data[column] if numb > .7 and numb < .75]\n",
    "print(all_new_values)\n"
   ]
  },
  {
   "cell_type": "code",
   "execution_count": null,
   "metadata": {},
   "outputs": [],
   "source": []
  }
 ],
 "metadata": {
  "kernelspec": {
   "display_name": "Python 3",
   "language": "python",
   "name": "python3"
  },
  "language_info": {
   "codemirror_mode": {
    "name": "ipython",
    "version": 3
   },
   "file_extension": ".py",
   "mimetype": "text/x-python",
   "name": "python",
   "nbconvert_exporter": "python",
   "pygments_lexer": "ipython3",
   "version": "3.7.4-final"
  }
 },
 "nbformat": 4,
 "nbformat_minor": 2
}