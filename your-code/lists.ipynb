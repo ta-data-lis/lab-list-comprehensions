{
  "nbformat": 4,
  "nbformat_minor": 0,
  "metadata": {
    "colab": {
      "name": "lists.ipynb",
      "provenance": [],
      "collapsed_sections": []
    },
    "kernelspec": {
      "name": "python3",
      "display_name": "Python 3"
    }
  },
  "cells": [
    {
      "cell_type": "markdown",
      "metadata": {
        "id": "n2JSYfPWSLmQ"
      },
      "source": [
        "The objective of this lesson will be to review Lists (starting by covering the pre-work) and then deep diving into more complex uses of lists such as list comprehensions\n",
        "\n",
        "For a good overview of lists and other data structures, check out the following reference: https://docs.python.org/3/tutorial/datastructures.html\n",
        "\n",
        "\n",
        "\n"
      ]
    },
    {
      "cell_type": "code",
      "metadata": {
        "id": "1prNq26VZFey",
        "colab": {
          "base_uri": "https://localhost:8080/"
        },
        "outputId": "c63d6821-2c7c-4032-fbd3-9a1e808ab6a0"
      },
      "source": [
        "# Let's break down the starter\n",
        "# a common way to create lists based on other lists is via the \"append\" function, that adds an element to the end of the list\n",
        "\n",
        "original_list = [2,4,6,8]\n",
        "my_list = []\n",
        "\n",
        "for element in original_list:\n",
        "  my_list.append(element*element)\n",
        "\n",
        "print(my_list)"
      ],
      "execution_count": null,
      "outputs": [
        {
          "output_type": "stream",
          "text": [
            "[4, 16, 36, 64]\n"
          ],
          "name": "stdout"
        }
      ]
    },
    {
      "cell_type": "code",
      "metadata": {
        "colab": {
          "base_uri": "https://localhost:8080/"
        },
        "id": "pjVV8CgHuE2s",
        "outputId": "53aec7a2-d242-4c0d-e1c1-eb00e0318afd"
      },
      "source": [
        "# or\n",
        "\n",
        "res = 0\n",
        "for el in original_list:\n",
        "  res += (el**2)\n",
        "res"
      ],
      "execution_count": null,
      "outputs": [
        {
          "output_type": "execute_result",
          "data": {
            "text/plain": [
              "120"
            ]
          },
          "metadata": {
            "tags": []
          },
          "execution_count": 9
        }
      ]
    },
    {
      "cell_type": "code",
      "metadata": {
        "colab": {
          "base_uri": "https://localhost:8080/"
        },
        "id": "Pxg586YH76_J",
        "outputId": "d528828c-91e3-461e-d92f-6cb1ebdd0b56"
      },
      "source": [
        "# second\n",
        "\n",
        "original_list = [2, 10, -1, 6 , 8]\n",
        "\n",
        "max_val = original_list[0]\n",
        "\n",
        "for val in original_list:\n",
        "  if val >= max_val:\n",
        "    max_val = val\n",
        "  \n",
        "max_val"
      ],
      "execution_count": null,
      "outputs": [
        {
          "output_type": "execute_result",
          "data": {
            "text/plain": [
              "10"
            ]
          },
          "metadata": {},
          "execution_count": 1
        }
      ]
    },
    {
      "cell_type": "code",
      "metadata": {
        "colab": {
          "base_uri": "https://localhost:8080/"
        },
        "id": "xmAmH3BfEFCE",
        "outputId": "d0b01332-3c19-45a0-b729-324ba9b45905"
      },
      "source": [
        "# append vs index setting\n",
        "\n",
        "\n",
        "# append will add the object to the end of the list --> item (object) added to the end of the list \n",
        "my_list_2 = [\"Jason\",\"Billy\", \"Kimberley\",\"Zack\",\"Trini\"]\n",
        "#my_list_2.append(\"Tommy\")\n",
        "\n",
        "my_list_2\n",
        "\n",
        "# how does append compare to:\n",
        "\n",
        "# indexing and re assign the variable will change the object in that position\n",
        "\n",
        "# my_list_2[-1] = \"Tommy\"\n",
        "\n",
        "# my_list_2"
      ],
      "execution_count": null,
      "outputs": [
        {
          "output_type": "execute_result",
          "data": {
            "text/plain": [
              "['Jason', 'Billy', 'Kimberley', 'Zack', 'Trini']"
            ]
          },
          "metadata": {},
          "execution_count": 5
        }
      ]
    },
    {
      "cell_type": "code",
      "metadata": {
        "colab": {
          "base_uri": "https://localhost:8080/"
        },
        "id": "LMf1Cg0GBpi_",
        "outputId": "5c1b0ee4-4383-4517-95cb-7fa5a70ad38f"
      },
      "source": [
        "# just like for strings, the + operator means \"concatenate\" -- > put together\n",
        "\n",
        "my_list + my_list_2\n",
        "\n",
        "# what happens if I multiply a list by 2?\n",
        "#maybe not intuitive\n",
        "#my_list*2"
      ],
      "execution_count": null,
      "outputs": [
        {
          "output_type": "execute_result",
          "data": {
            "text/plain": [
              "[4, 16, 36, 64, 4, 16, 36, 64]"
            ]
          },
          "metadata": {
            "tags": []
          },
          "execution_count": 6
        }
      ]
    },
    {
      "cell_type": "code",
      "metadata": {
        "id": "7y0SbfCvbDty"
      },
      "source": [
        "# some other common list operations\n",
        "\n",
        "my_list = [1,2,3,4,5,6,1,1,2]\n",
        "\n",
        "my_list.count(1) # this method takes a single argument (what is inside parenthesis) and this argument is the element to be counted\n",
        "\n",
        "##NT: What's an argument/parameter --> information that are passed into a function/ method ##\n",
        "\n",
        "#my_list.pop() # pop is a rare \"inplace\" method --> pop() method takes a single argument, the index of one object, and removes it. By default it takes the last\n",
        "#my_lis\n",
        "\n",
        "##NT: Inplace method --> will return nothing and the object is updated\n",
        "\n",
        "#my_list.clear()\n",
        "#my_list\n",
        "\n",
        "my_list_2 = [\"Jason\",\"Billy\", \"Kimberley\",\"Zack\",\"Trini\"]\n",
        "\n",
        "#my_list_2.index(\"Kimberley\")\n",
        "\n",
        "#my_list_2.insert(2,\"Tommy\") #another inplace method\n",
        "#my_list_2\n",
        "\n",
        "#my_list_2.remove(\"Jason\") # yet another inplace method --> remove() method takes a single element as an argument and removes it from the list.\n",
        "#my_list_2"
      ],
      "execution_count": null,
      "outputs": []
    },
    {
      "cell_type": "code",
      "metadata": {
        "colab": {
          "base_uri": "https://localhost:8080/"
        },
        "id": "twJAxTIQDOm7",
        "outputId": "266f7146-70ea-40e3-c8cf-3d741d46efb2"
      },
      "source": [
        "# deep dive on pop\n",
        "my_list = [1,2,3,4,5,6,1,1,2]\n",
        "a = my_list.pop()\n",
        "print(a)\n",
        "print(my_list)\n",
        "\n",
        "my_list.pop(5)\n",
        "print(my_list)"
      ],
      "execution_count": null,
      "outputs": [
        {
          "output_type": "stream",
          "text": [
            "2\n",
            "[1, 2, 3, 4, 5, 6, 1, 1]\n",
            "[1, 2, 3, 4, 5, 1, 1]\n"
          ],
          "name": "stdout"
        }
      ]
    },
    {
      "cell_type": "code",
      "metadata": {
        "colab": {
          "base_uri": "https://localhost:8080/"
        },
        "id": "4lbWDvBcHkDj",
        "outputId": "5bc997ac-2c23-4a47-d26d-4a9d63c03467"
      },
      "source": [
        "# deep dive on remove\n",
        "\n",
        "my_list = [1,2,3,4,5,6,1,1,2]\n",
        "my_list.remove(6)\n",
        "print(my_list)\n",
        "\n",
        "my_list.remove(1)\n",
        "print(my_list)"
      ],
      "execution_count": null,
      "outputs": [
        {
          "output_type": "stream",
          "text": [
            "[1, 2, 3, 4, 5, 1, 1, 2]\n",
            "[2, 3, 4, 5, 1, 1, 2]\n"
          ],
          "name": "stdout"
        }
      ]
    },
    {
      "cell_type": "code",
      "metadata": {
        "id": "WPRk9KLVpC6r",
        "colab": {
          "base_uri": "https://localhost:8080/"
        },
        "outputId": "47df9f3f-29db-4dc1-d1a5-03a3f436123b"
      },
      "source": [
        "# deep dive on index\n",
        "my_list = [1,2,3,4,5,6,1,1,2]\n",
        "my_list.index(2)"
      ],
      "execution_count": null,
      "outputs": [
        {
          "output_type": "execute_result",
          "data": {
            "text/plain": [
              "1"
            ]
          },
          "metadata": {
            "tags": []
          },
          "execution_count": 18
        }
      ]
    },
    {
      "cell_type": "code",
      "metadata": {
        "id": "Uslgmorud1xt",
        "colab": {
          "base_uri": "https://localhost:8080/"
        },
        "outputId": "3ad55072-8593-4973-d746-564f8b0638eb"
      },
      "source": [
        "#mini challenge: how can I iterate over the list and keep only the numeric values?\n",
        "\n",
        "# tip1: loop\n",
        "# tip2: conditional statements and type() method\n",
        "# tip3: type(method)\n",
        "\n",
        "new_list = [1,2,3.0,\"four\",\"five\",\"six\",7]\n",
        "\n",
        "for element in new_list:\n",
        "  if type(element) is str:\n",
        "    new_list.pop(new_list.index(element))\n",
        "  else:\n",
        "    continue\n",
        "\n",
        "new_list "
      ],
      "execution_count": null,
      "outputs": [
        {
          "output_type": "execute_result",
          "data": {
            "text/plain": [
              "[1, 2, 3.0, 'five', 7]"
            ]
          },
          "metadata": {
            "tags": []
          },
          "execution_count": 19
        }
      ]
    },
    {
      "cell_type": "code",
      "metadata": {
        "colab": {
          "base_uri": "https://localhost:8080/"
        },
        "id": "E2YggDwBFiOL",
        "outputId": "ec269318-0808-41ad-8fa8-419f44aa89a2"
      },
      "source": [
        "# solution and warning: in-place operations are dangerous in loops\n",
        "\n",
        "new_list = [1,2,3,\"four\",\"five\",\"six\",7]\n",
        "num_list = []\n",
        "\n",
        "for element in new_list:\n",
        "  if type(element) != str:\n",
        "    num_list.append(element)\n",
        "  else:\n",
        "    continue\n",
        "\n",
        "num_list"
      ],
      "execution_count": null,
      "outputs": [
        {
          "output_type": "execute_result",
          "data": {
            "text/plain": [
              "[1, 2, 3, 7]"
            ]
          },
          "metadata": {
            "tags": []
          },
          "execution_count": 20
        }
      ]
    },
    {
      "cell_type": "code",
      "metadata": {
        "id": "x_lEUUiXkeCW",
        "colab": {
          "base_uri": "https://localhost:8080/"
        },
        "outputId": "fd76d37e-bb77-4a4c-adc2-16b8dfb5d399"
      },
      "source": [
        "# lists of lists or nested lists\n",
        "my_list = [[0,1,2],[3,4,5],[6,7,8]]\n",
        "\n",
        "for element in my_list:\n",
        "  print(element)"
      ],
      "execution_count": null,
      "outputs": [
        {
          "output_type": "stream",
          "text": [
            "[0, 1, 2]\n",
            "[3, 4, 5]\n",
            "[6, 7, 8]\n"
          ],
          "name": "stdout"
        }
      ]
    },
    {
      "cell_type": "code",
      "metadata": {
        "colab": {
          "base_uri": "https://localhost:8080/"
        },
        "id": "jh8F0N5YGShh",
        "outputId": "8db8379c-5e65-4592-a3f6-ec47defe9646"
      },
      "source": [
        "# nested loops\n",
        "for sublist in my_list:\n",
        "  for element in sublist:\n",
        "    print(element)"
      ],
      "execution_count": null,
      "outputs": [
        {
          "output_type": "stream",
          "text": [
            "0\n",
            "1\n",
            "2\n",
            "3\n",
            "4\n",
            "5\n",
            "6\n",
            "7\n",
            "8\n"
          ],
          "name": "stdout"
        }
      ]
    },
    {
      "cell_type": "code",
      "metadata": {
        "colab": {
          "base_uri": "https://localhost:8080/"
        },
        "id": "dNjRjZtKGgxJ",
        "outputId": "8617f64a-bfb1-40a6-c5c5-b875dbc2630b"
      },
      "source": [
        "# ranges are a specific type of object that is an iterable.\n",
        "# we can turn it into a list (this operation is known as \"casting\")\n",
        "range(0,4)\n",
        "#list(range(0,4))"
      ],
      "execution_count": null,
      "outputs": [
        {
          "output_type": "execute_result",
          "data": {
            "text/plain": [
              "range(0, 4)"
            ]
          },
          "metadata": {
            "tags": []
          },
          "execution_count": 23
        }
      ]
    },
    {
      "cell_type": "code",
      "metadata": {
        "id": "GXtlpxDtizRv",
        "colab": {
          "base_uri": "https://localhost:8080/"
        },
        "outputId": "fcc87543-2256-4f3f-abe2-bb0be1cb9fc2"
      },
      "source": [
        "#list comprehension is a more compact (and efficient) way to create lists and apply operations at the same time\n",
        "new_list = []\n",
        "\n",
        "for i in range(0,10):\n",
        "  new_list.append(i**2)\n",
        "\n",
        "new_list"
      ],
      "execution_count": null,
      "outputs": [
        {
          "output_type": "execute_result",
          "data": {
            "text/plain": [
              "[0, 1, 4, 9, 16, 25, 36, 49, 64, 81]"
            ]
          },
          "metadata": {
            "tags": []
          },
          "execution_count": 24
        }
      ]
    },
    {
      "cell_type": "code",
      "metadata": {
        "colab": {
          "base_uri": "https://localhost:8080/"
        },
        "id": "DUPNiod8G7DK",
        "outputId": "11e7d2eb-01cb-4ab3-efb9-5a54c20cdeab"
      },
      "source": [
        "# versus\n",
        "comprehension = [i**2 for i in range(0,10)]\n",
        "comprehension"
      ],
      "execution_count": null,
      "outputs": [
        {
          "output_type": "execute_result",
          "data": {
            "text/plain": [
              "[0, 1, 4, 9, 16, 25, 36, 49, 64, 81]"
            ]
          },
          "metadata": {
            "tags": []
          },
          "execution_count": 25
        }
      ]
    },
    {
      "cell_type": "code",
      "metadata": {
        "id": "vBJCvuZlctEV",
        "colab": {
          "base_uri": "https://localhost:8080/"
        },
        "outputId": "98a1d1dd-93eb-49e0-c955-72308a63a1eb"
      },
      "source": [
        "# notation is:\n",
        "# [result for iterator in iterable]\n",
        "\n",
        "[i for i in range(-10,10)]"
      ],
      "execution_count": null,
      "outputs": [
        {
          "output_type": "execute_result",
          "data": {
            "text/plain": [
              "[-10, -9, -8, -7, -6, -5, -4, -3, -2, -1, 0, 1, 2, 3, 4, 5, 6, 7, 8, 9]"
            ]
          },
          "metadata": {
            "tags": []
          },
          "execution_count": 26
        }
      ]
    },
    {
      "cell_type": "code",
      "metadata": {
        "colab": {
          "base_uri": "https://localhost:8080/"
        },
        "id": "aJzO8QNJPGHj",
        "outputId": "cd769d5b-4d61-4c89-b667-93ea97619828"
      },
      "source": [
        "# you can apply any function you want to \"result\"\n",
        "[abs(i) for i in range(-10,10)]"
      ],
      "execution_count": null,
      "outputs": [
        {
          "output_type": "execute_result",
          "data": {
            "text/plain": [
              "[10, 9, 8, 7, 6, 5, 4, 3, 2, 1, 0, 1, 2, 3, 4, 5, 6, 7, 8, 9]"
            ]
          },
          "metadata": {
            "tags": []
          },
          "execution_count": 27
        }
      ]
    },
    {
      "cell_type": "code",
      "metadata": {
        "id": "x-DUBKESiJK1",
        "colab": {
          "base_uri": "https://localhost:8080/"
        },
        "outputId": "2aace1ee-29ee-4d70-fb73-cfd39d3f0098"
      },
      "source": [
        "# say I only want the odd numbers\n",
        "\n",
        "[i if i%2 != 0 else -1 for i in range(0,10)]"
      ],
      "execution_count": null,
      "outputs": [
        {
          "output_type": "execute_result",
          "data": {
            "text/plain": [
              "[-1, 1, -1, 3, -1, 5, -1, 7, -1, 9]"
            ]
          },
          "metadata": {
            "tags": []
          },
          "execution_count": 28
        }
      ]
    },
    {
      "cell_type": "code",
      "metadata": {
        "id": "UWoqDpApjRb8",
        "colab": {
          "base_uri": "https://localhost:8080/"
        },
        "outputId": "f4658d81-5410-40ef-8ef2-ce14e60b3982"
      },
      "source": [
        "# not exactly there. We have another construct for this\n",
        "\n",
        "[i for i in range(0,10) if i%2 == 0]\n",
        "\n",
        "# these represent two different usecases\n",
        "# NTS: go with the mathematical notation stuff if the cohort seems to like it\n",
        "\n",
        "\n",
        "# first use case: the if and else are in the begining the action will work on all the list.\n",
        "# second use case: the if is in the end it will filter the list"
      ],
      "execution_count": null,
      "outputs": [
        {
          "output_type": "execute_result",
          "data": {
            "text/plain": [
              "[0, 2, 4, 6, 8]"
            ]
          },
          "metadata": {
            "tags": []
          },
          "execution_count": 29
        }
      ]
    },
    {
      "cell_type": "code",
      "metadata": {
        "id": "Co22bDOor8jP",
        "colab": {
          "base_uri": "https://localhost:8080/"
        },
        "outputId": "ca9afdb1-37f8-4713-e66e-c912231eace5"
      },
      "source": [
        "# revisit the challenge\n",
        "new_list = [1,2,3,\"four\",\"five\",\"six\",7]\n",
        "\n",
        "# NOTE! we want to filter (making the list smaller)\n",
        "\n",
        "num_list = [element for element in new_list if type(element) != str]\n",
        "num_list"
      ],
      "execution_count": null,
      "outputs": [
        {
          "output_type": "execute_result",
          "data": {
            "text/plain": [
              "[1, 2, 3, 7]"
            ]
          },
          "metadata": {
            "tags": []
          },
          "execution_count": 30
        }
      ]
    },
    {
      "cell_type": "code",
      "metadata": {
        "id": "Ca59VSBYPuFa"
      },
      "source": [
        "# terseness of comprehensions versus loops ## skip this ##"
      ],
      "execution_count": null,
      "outputs": []
    },
    {
      "cell_type": "code",
      "metadata": {
        "id": "JKJ_lf6ycjux",
        "colab": {
          "base_uri": "https://localhost:8080/"
        },
        "outputId": "c14449fb-68c8-4ce7-f51f-7c872a788b84"
      },
      "source": [
        "temperatures_faren = [78, 98, 90, 67, 78, 87, 95, 184]\n",
        "# I want the message \"too hot\" when the celsius value is more than 40 and \"not too hot\" otherwise, for all faren temps over 70 (filter)\n",
        "# celsius = (far-32)/1.8\n",
        "\n",
        "[\"too hot\" if (x-32)/1.8 >40  else \"not too hot\" for x in temperatures_faren if x > 70]"
      ],
      "execution_count": null,
      "outputs": [
        {
          "output_type": "execute_result",
          "data": {
            "text/plain": [
              "['not too hot',\n",
              " 'not too hot',\n",
              " 'not too hot',\n",
              " 'not too hot',\n",
              " 'not too hot',\n",
              " 'not too hot',\n",
              " 'too hot']"
            ]
          },
          "metadata": {},
          "execution_count": 1
        }
      ]
    },
    {
      "cell_type": "code",
      "metadata": {
        "id": "pLUkVMYbnKJi",
        "colab": {
          "base_uri": "https://localhost:8080/"
        },
        "outputId": "c4719837-1c76-48ba-ab50-23f20d4d8966"
      },
      "source": [
        "temperatures_faren = [78, 98, 90, 67, 78, 87, 95, 184]\n",
        "new_lst = []\n",
        "for temp in temperatures_faren:\n",
        "  if temp > 70:\n",
        "    if (temp-32)/1.8 >40:\n",
        "      new_lst.append(\"too hot\")\n",
        "    elif (temp-32)/1.8 <=40:\n",
        "      new_lst.append(\"not too hot\")\n",
        "    else: # else statemnt to cover all other possible options that the if - elif statement didn't cover\n",
        "      print(\"something is deeply wrong\")\n",
        "\n",
        "new_lst"
      ],
      "execution_count": null,
      "outputs": [
        {
          "output_type": "execute_result",
          "data": {
            "text/plain": [
              "['not too hot',\n",
              " 'not too hot',\n",
              " 'not too hot',\n",
              " 'not too hot',\n",
              " 'not too hot',\n",
              " 'not too hot',\n",
              " 'too hot']"
            ]
          },
          "metadata": {
            "tags": []
          },
          "execution_count": 4
        }
      ]
    },
    {
      "cell_type": "code",
      "metadata": {
        "id": "0UgA9rjDkM3w",
        "colab": {
          "base_uri": "https://localhost:8080/"
        },
        "outputId": "2b822b55-591f-4d2b-913c-834b1884e8c2"
      },
      "source": [
        "# !advanced \n",
        "# nested lists with list comprehensions\n",
        "# nested list comprehansions are created \"outside in\"\n",
        "\n",
        "matrix = [j for j in range(5) for i in range(5)] # --> the result is j. j starts at zero then it will keep zero until the i cicle ends. Then j is 1 and the cicle i will repeat\n",
        "\n",
        "\n",
        "# first value of i, first value of j -> second value of i, first value of j -> thrid value of i, first value of j... \n",
        "#matrix = [j for i in range(5) for j in range(5)] \n",
        "# first value of j, first value of i -> second value of j, first value of i -> thrid value of j, first value of i...\n",
        "#matrix = [[j for j in range(10)] for i in range(5)]\n",
        "matrix = [[j*i for j in range(10)] for i in range(5)]\n",
        "\n",
        "matrix"
      ],
      "execution_count": null,
      "outputs": [
        {
          "output_type": "execute_result",
          "data": {
            "text/plain": [
              "[[0, 0, 0, 0, 0, 0, 0, 0, 0, 0],\n",
              " [0, 1, 2, 3, 4, 5, 6, 7, 8, 9],\n",
              " [0, 2, 4, 6, 8, 10, 12, 14, 16, 18],\n",
              " [0, 3, 6, 9, 12, 15, 18, 21, 24, 27],\n",
              " [0, 4, 8, 12, 16, 20, 24, 28, 32, 36]]"
            ]
          },
          "metadata": {},
          "execution_count": 4
        }
      ]
    },
    {
      "cell_type": "code",
      "metadata": {
        "id": "DVE_J823Oauz",
        "colab": {
          "base_uri": "https://localhost:8080/",
          "height": 34
        },
        "outputId": "05efd7bd-5eda-4301-cb5f-f93ac027c35f"
      },
      "source": [
        "# therefore lists of lists in comprehensions are also read \"outside in\"\n",
        "# [result for \"outer loop\" for \"inner loop\"]\n",
        "\n",
        "my_matrix = [[0,1,2],[3,4,5],[6,7,8]]\n",
        "\n",
        "[val for row in my_matrix for val in row]"
      ],
      "execution_count": null,
      "outputs": [
        {
          "output_type": "execute_result",
          "data": {
            "text/plain": [
              "[0, 1, 2, 3, 4, 5, 6, 7, 8]"
            ]
          },
          "metadata": {
            "tags": []
          },
          "execution_count": 7
        }
      ]
    },
    {
      "cell_type": "code",
      "metadata": {
        "id": "NGOIdELEPLIa",
        "colab": {
          "base_uri": "https://localhost:8080/",
          "height": 34
        },
        "outputId": "809b75b1-74f1-4316-a515-123f96586f6d"
      },
      "source": [
        "#Challenge: suppose I want to flatten a given 2-D list and only include those strings whose lengths are less than 6\n",
        "\n",
        "planets = [[\"Mercury\", \"Venus\", \"Earth\"], [\"Mars\", \"Jupiter\"], [\"Uranus\", \"Neptune\", \"Pluto\"]]\n",
        "\n",
        "[planet for group in planets for planet in group if len(planet) <6]"
      ],
      "execution_count": null,
      "outputs": [
        {
          "output_type": "execute_result",
          "data": {
            "text/plain": [
              "['Venus', 'Earth', 'Mars', 'Pluto']"
            ]
          },
          "metadata": {
            "tags": []
          },
          "execution_count": 48
        }
      ]
    },
    {
      "cell_type": "code",
      "metadata": {
        "id": "mPCtXSH9qA2E",
        "colab": {
          "base_uri": "https://localhost:8080/",
          "height": 34
        },
        "outputId": "1084678d-9715-468b-d8fa-1d824cc85005"
      },
      "source": [
        "#you can place conditions at any level\n",
        "\n",
        "planets = [[\"Mercury\", \"Venus\", \"Earth\"], [\"Mars\", \"Jupiter\"], [\"Uranus\", \"Neptune\", \"Pluto\"]]\n",
        "\n",
        "[planet for group in planets for planet in group if len(group) == 2 and len(planet) ==4]"
      ],
      "execution_count": null,
      "outputs": [
        {
          "output_type": "execute_result",
          "data": {
            "text/plain": [
              "['Mars']"
            ]
          },
          "metadata": {
            "tags": []
          },
          "execution_count": 50
        }
      ]
    },
    {
      "cell_type": "markdown",
      "metadata": {
        "id": "mhcVDZ8tdB5X"
      },
      "source": [
        "List Comprehensions vs Append method in lists\n",
        "\n",
        "\n",
        "\n",
        "*   Clearly there are Pros & Cons\n",
        "*   An explicit loop with an append method is more explicit and therefore possibly easier to read\n",
        "* List comprehensions are far more performant for two reasons:\n",
        "  * no need to load the append method so many times\n",
        "  * Python has optimized things to create the list in C\n",
        "* increase in performance can be of about 50%\n",
        "\n",
        "* List comprehensions are more \"elegant\" from a coding point of view\n",
        "* but sometimes if they become too long and hard to understand, you lose the advantages you had\n",
        "\n",
        "\n"
      ]
    }
  ]
}