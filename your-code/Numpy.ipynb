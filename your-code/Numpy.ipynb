{
 "cells": [
  {
   "cell_type": "code",
   "execution_count": 20,
   "metadata": {},
   "outputs": [
    {
     "data": {
      "text/plain": [
       "'R-Qq-Aaa-EEEE-Zzzzz-Tttttt-Yyyyyyy'"
      ]
     },
     "execution_count": 20,
     "metadata": {},
     "output_type": "execute_result"
    }
   ],
   "source": [
    "word = \"abcd\" #-> \"A-Bb-Ccc-Dddd\"\n",
    "#accum(\"RqaEzty\") #-> \"R-Qq-Aaa-Eeee-Zzzzz-Tttttt-Yyyyyyy\"\n",
    "#accum(\"cwAt\") #-> \"C-Ww-Aaa-Tttt\"\n",
    "\n",
    "new_lst = []\n",
    "\n",
    "for letter, index in zip(word, range(len(word))):\n",
    "    upper = letter.upper()\n",
    "    lower = letter*index\n",
    "    new_lst.append(upper + lower)\n",
    "    \n",
    "\"-\".join(new_lst)\n"
   ]
  },
  {
   "cell_type": "code",
   "execution_count": null,
   "metadata": {},
   "outputs": [],
   "source": [
    "#def accum(s):\n",
    "\n"
   ]
  },
  {
   "cell_type": "code",
   "execution_count": 22,
   "metadata": {},
   "outputs": [],
   "source": [
    "import numpy as np"
   ]
  },
  {
   "cell_type": "code",
   "execution_count": 36,
   "metadata": {},
   "outputs": [
    {
     "name": "stdout",
     "output_type": "stream",
     "text": [
      "[0. 0. 0. 0. 0.]\n",
      "[[0. 0.]\n",
      " [0. 0.]\n",
      " [0. 0.]]\n",
      "[[0 0]\n",
      " [0 0]\n",
      " [0 0]]\n",
      "0\n"
     ]
    }
   ],
   "source": [
    "a = np.array([1,2,3,4,5])\n",
    "\n",
    "print(np.zeros(5))\n",
    "print(np.zeros((3,2)))\n",
    "print(np.zeros((3,2), dtype=int))\n",
    "\n",
    "#Dá a quantidade de dados tendo em conta a fonte onde vai buscar os dados\n",
    "print(np.zeros_like(()))"
   ]
  },
  {
   "cell_type": "code",
   "execution_count": 33,
   "metadata": {},
   "outputs": [
    {
     "data": {
      "text/plain": [
       "array([[1., 1.],\n",
       "       [1., 1.],\n",
       "       [1., 1.]])"
      ]
     },
     "execution_count": 33,
     "metadata": {},
     "output_type": "execute_result"
    }
   ],
   "source": [
    "np.ones((3,2))"
   ]
  },
  {
   "cell_type": "code",
   "execution_count": 34,
   "metadata": {},
   "outputs": [
    {
     "data": {
      "text/plain": [
       "(5,)"
      ]
     },
     "execution_count": 34,
     "metadata": {},
     "output_type": "execute_result"
    }
   ],
   "source": [
    "a.shape"
   ]
  },
  {
   "cell_type": "code",
   "execution_count": 37,
   "metadata": {},
   "outputs": [
    {
     "data": {
      "text/plain": [
       "array([0.28743264, 0.0290291 , 0.69791205, 0.85813982, 0.10176151])"
      ]
     },
     "execution_count": 37,
     "metadata": {},
     "output_type": "execute_result"
    }
   ],
   "source": [
    "np.random.random(5)"
   ]
  },
  {
   "cell_type": "code",
   "execution_count": 39,
   "metadata": {},
   "outputs": [
    {
     "data": {
      "text/plain": [
       "array([ 2,  3,  4,  5,  6,  7,  8,  9, 10, 11, 12, 13, 14, 15, 16, 17, 18,\n",
       "       19, 20, 21, 22, 23, 24, 25, 26, 27, 28, 29, 30, 31, 32, 33, 34, 35,\n",
       "       36, 37, 38, 39, 40, 41, 42, 43, 44, 45, 46, 47, 48, 49, 50, 51, 52,\n",
       "       53, 54, 55, 56, 57, 58, 59, 60, 61, 62, 63, 64, 65, 66, 67, 68, 69,\n",
       "       70, 71, 72, 73, 74, 75, 76, 77, 78, 79, 80, 81, 82, 83, 84, 85, 86,\n",
       "       87, 88, 89, 90, 91, 92, 93, 94, 95, 96, 97, 98, 99])"
      ]
     },
     "execution_count": 39,
     "metadata": {},
     "output_type": "execute_result"
    }
   ],
   "source": [
    "np.arange(2,100)"
   ]
  },
  {
   "cell_type": "code",
   "execution_count": 40,
   "metadata": {},
   "outputs": [
    {
     "data": {
      "text/plain": [
       "array([  5.,  60., 115., 170., 225., 280., 335., 390., 445., 500.])"
      ]
     },
     "execution_count": 40,
     "metadata": {},
     "output_type": "execute_result"
    }
   ],
   "source": [
    "b = np.linspace(5.0, 500, 10)\n",
    "b"
   ]
  },
  {
   "cell_type": "code",
   "execution_count": 45,
   "metadata": {},
   "outputs": [
    {
     "name": "stdout",
     "output_type": "stream",
     "text": [
      "[1]\n",
      "1\n",
      "3.5\n",
      "[list([1]) list([3, 3.5])]\n"
     ]
    }
   ],
   "source": [
    "x = np.array([[1],2,[3,3.5],4,5])\n",
    "print(x[0])\n",
    "print(x[0][0])\n",
    "print(x[2][1])\n",
    "\n",
    "a = np.array([0,2])\n",
    "\n",
    "print(x[a])"
   ]
  },
  {
   "cell_type": "code",
   "execution_count": 50,
   "metadata": {},
   "outputs": [
    {
     "name": "stdout",
     "output_type": "stream",
     "text": [
      "[ 0  2  4  6  8 10 12 14 16 18 20 22 24 26 28 30 32 34 36 38]\n",
      "[ True  True  True False False False False False False False False False\n",
      " False False False False False False False False]\n"
     ]
    },
    {
     "data": {
      "text/plain": [
       "array([0, 2, 4])"
      ]
     },
     "execution_count": 50,
     "metadata": {},
     "output_type": "execute_result"
    }
   ],
   "source": [
    "x = np.arange(20)*2\n",
    "print(x)\n",
    "\n",
    "condition = x < 5\n",
    "print(condition)\n",
    "x[condition]\n"
   ]
  },
  {
   "cell_type": "code",
   "execution_count": 56,
   "metadata": {},
   "outputs": [
    {
     "name": "stdout",
     "output_type": "stream",
     "text": [
      "[[0.54528519 0.69528791 0.11936258 0.76028833]\n",
      " [0.21990584 0.20758986 0.86811194 0.42691883]\n",
      " [0.89046593 0.58734173 0.99253355 0.50505556]\n",
      " [0.78170656 0.4004719  0.6769221  0.28818881]\n",
      " [0.62469059 0.40744075 0.42155601 0.26880655]]\n",
      "0.9925335469612631\n",
      "0.5343965259648964\n",
      "[0.76028833 0.86811194 0.99253355 0.78170656 0.62469059]\n",
      "[0.89046593 0.69528791 0.99253355 0.76028833]\n"
     ]
    }
   ],
   "source": [
    "array = np.random.random((5,4))\n",
    "\n",
    "print(array)\n",
    "\n",
    "print(array.max())\n",
    "print(array.mean())\n",
    "print(array.max(axis = 1)) #rows\n",
    "print(array.max(axis = 0)) #column"
   ]
  },
  {
   "cell_type": "code",
   "execution_count": 59,
   "metadata": {},
   "outputs": [
    {
     "data": {
      "text/plain": [
       "array([0.530056  , 0.43063162, 0.74384919, 0.53682234, 0.43062347])"
      ]
     },
     "execution_count": 59,
     "metadata": {},
     "output_type": "execute_result"
    }
   ],
   "source": [
    "array.mean(axis = 1)"
   ]
  },
  {
   "cell_type": "code",
   "execution_count": 58,
   "metadata": {},
   "outputs": [
    {
     "data": {
      "text/plain": [
       "array([[0.29733594, 0.48342527, 0.01424743, 0.57803834],\n",
       "       [0.04835858, 0.04309355, 0.75361835, 0.18225968],\n",
       "       [0.79292958, 0.34497031, 0.98512284, 0.25508112],\n",
       "       [0.61106514, 0.16037774, 0.45822353, 0.08305279],\n",
       "       [0.39023833, 0.16600797, 0.17770947, 0.07225696]])"
      ]
     },
     "execution_count": 58,
     "metadata": {},
     "output_type": "execute_result"
    }
   ],
   "source": [
    "np.square(array)"
   ]
  },
  {
   "cell_type": "code",
   "execution_count": null,
   "metadata": {},
   "outputs": [],
   "source": [
    "#numpy vectorize\n",
    "#advanced topic\n",
    "\n"
   ]
  },
  {
   "cell_type": "code",
   "execution_count": null,
   "metadata": {},
   "outputs": [],
   "source": []
  },
  {
   "cell_type": "code",
   "execution_count": null,
   "metadata": {},
   "outputs": [],
   "source": []
  }
 ],
 "metadata": {
  "kernelspec": {
   "display_name": "Python 3",
   "language": "python",
   "name": "python3"
  },
  "language_info": {
   "codemirror_mode": {
    "name": "ipython",
    "version": 3
   },
   "file_extension": ".py",
   "mimetype": "text/x-python",
   "name": "python",
   "nbconvert_exporter": "python",
   "pygments_lexer": "ipython3",
   "version": "3.6.5"
  }
 },
 "nbformat": 4,
 "nbformat_minor": 2
}
