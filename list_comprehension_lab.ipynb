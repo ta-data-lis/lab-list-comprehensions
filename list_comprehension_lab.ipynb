{
  "nbformat": 4,
  "nbformat_minor": 0,
  "metadata": {
    "kernelspec": {
      "display_name": "Python 3",
      "language": "python",
      "name": "python3"
    },
    "language_info": {
      "codemirror_mode": {
        "name": "ipython",
        "version": 3
      },
      "file_extension": ".py",
      "mimetype": "text/x-python",
      "name": "python",
      "nbconvert_exporter": "python",
      "pygments_lexer": "ipython3",
      "version": "3.8.8"
    },
    "colab": {
      "name": "list comprehension lab.ipynb",
      "provenance": [],
      "collapsed_sections": []
    }
  },
  "cells": [
    {
      "cell_type": "markdown",
      "metadata": {
        "id": "nRt1pm60CTMX"
      },
      "source": [
        "# List Comprehensions Lab\n",
        "\n",
        "Complete the following set of exercises to solidify your knowledge of list comprehensions."
      ]
    },
    {
      "cell_type": "code",
      "metadata": {
        "id": "6a3iYhJNCTMd"
      },
      "source": [
        "import os\n",
        "import numpy as np\n",
        "import pandas as pd"
      ],
      "execution_count": null,
      "outputs": []
    },
    {
      "cell_type": "markdown",
      "metadata": {
        "id": "M_Iu_EhjCTMe"
      },
      "source": [
        "### 1. Use a list comprehension to create and print a list of consecutive integers starting with 1 and ending with 50."
      ]
    },
    {
      "cell_type": "code",
      "metadata": {
        "id": "6SN8J3mmCTMf",
        "outputId": "bbdf5c1f-b0b8-443e-f5e7-ee6970428535"
      },
      "source": [
        "cons_int = [i for i in range(1,51)]\n",
        "print(cons_int)"
      ],
      "execution_count": null,
      "outputs": [
        {
          "name": "stdout",
          "output_type": "stream",
          "text": [
            "[1, 2, 3, 4, 5, 6, 7, 8, 9, 10, 11, 12, 13, 14, 15, 16, 17, 18, 19, 20, 21, 22, 23, 24, 25, 26, 27, 28, 29, 30, 31, 32, 33, 34, 35, 36, 37, 38, 39, 40, 41, 42, 43, 44, 45, 46, 47, 48, 49, 50]\n"
          ]
        }
      ]
    },
    {
      "cell_type": "markdown",
      "metadata": {
        "id": "ZQ8pPtTxCTMg"
      },
      "source": [
        "### 2. Use a list comprehension to create and print a list of even numbers starting with 2 and ending with 200."
      ]
    },
    {
      "cell_type": "code",
      "metadata": {
        "id": "1KINFEFoCTMg",
        "outputId": "a41bfee0-4ae2-457d-b00c-dc46cceec278"
      },
      "source": [
        "even = [i for i in range(2, 201, 2)]\n",
        "print(even)"
      ],
      "execution_count": null,
      "outputs": [
        {
          "name": "stdout",
          "output_type": "stream",
          "text": [
            "[2, 4, 6, 8, 10, 12, 14, 16, 18, 20, 22, 24, 26, 28, 30, 32, 34, 36, 38, 40, 42, 44, 46, 48, 50, 52, 54, 56, 58, 60, 62, 64, 66, 68, 70, 72, 74, 76, 78, 80, 82, 84, 86, 88, 90, 92, 94, 96, 98, 100, 102, 104, 106, 108, 110, 112, 114, 116, 118, 120, 122, 124, 126, 128, 130, 132, 134, 136, 138, 140, 142, 144, 146, 148, 150, 152, 154, 156, 158, 160, 162, 164, 166, 168, 170, 172, 174, 176, 178, 180, 182, 184, 186, 188, 190, 192, 194, 196, 198, 200]\n"
          ]
        }
      ]
    },
    {
      "cell_type": "markdown",
      "metadata": {
        "id": "jwqaSHmWCTMh"
      },
      "source": [
        "### 3. Use a list comprehension to create and print a list containing all elements of the 10 x 4 Numpy array below."
      ]
    },
    {
      "cell_type": "code",
      "metadata": {
        "id": "NyWHLt1YCTMi",
        "outputId": "7c40a1c6-e3ef-4298-e9c1-9a52d0774b6a"
      },
      "source": [
        "a = np.array([[0.84062117, 0.48006452, 0.7876326 , 0.77109654],\n",
        "       [0.44409793, 0.09014516, 0.81835917, 0.87645456],\n",
        "       [0.7066597 , 0.09610873, 0.41247947, 0.57433389],\n",
        "       [0.29960807, 0.42315023, 0.34452557, 0.4751035 ],\n",
        "       [0.17003563, 0.46843998, 0.92796258, 0.69814654],\n",
        "       [0.41290051, 0.19561071, 0.16284783, 0.97016248],\n",
        "       [0.71725408, 0.87702738, 0.31244595, 0.76615487],\n",
        "       [0.20754036, 0.57871812, 0.07214068, 0.40356048],\n",
        "       [0.12149553, 0.53222417, 0.9976855 , 0.12536346],\n",
        "       [0.80930099, 0.50962849, 0.94555126, 0.33364763]])\n",
        "\n",
        "new_list = [value for row in a for value in row ]\n",
        "print(new_list)"
      ],
      "execution_count": null,
      "outputs": [
        {
          "name": "stdout",
          "output_type": "stream",
          "text": [
            "[0.84062117, 0.48006452, 0.7876326, 0.77109654, 0.44409793, 0.09014516, 0.81835917, 0.87645456, 0.7066597, 0.09610873, 0.41247947, 0.57433389, 0.29960807, 0.42315023, 0.34452557, 0.4751035, 0.17003563, 0.46843998, 0.92796258, 0.69814654, 0.41290051, 0.19561071, 0.16284783, 0.97016248, 0.71725408, 0.87702738, 0.31244595, 0.76615487, 0.20754036, 0.57871812, 0.07214068, 0.40356048, 0.12149553, 0.53222417, 0.9976855, 0.12536346, 0.80930099, 0.50962849, 0.94555126, 0.33364763]\n"
          ]
        }
      ]
    },
    {
      "cell_type": "markdown",
      "metadata": {
        "id": "rRVVdA-aCTMj"
      },
      "source": [
        "### 4. Add a condition to the list comprehension above so that only values greater than or equal to 0.5 are printed."
      ]
    },
    {
      "cell_type": "code",
      "metadata": {
        "id": "kp2WEY9OCTMj",
        "outputId": "dff9b2c6-7fc7-4bf1-d48c-b1a23aaf7229"
      },
      "source": [
        "new_list2 = [value for row in a for value in row if value >= 0.5 ]\n",
        "print(new_list2)"
      ],
      "execution_count": null,
      "outputs": [
        {
          "name": "stdout",
          "output_type": "stream",
          "text": [
            "[0.84062117, 0.7876326, 0.77109654, 0.81835917, 0.87645456, 0.7066597, 0.57433389, 0.92796258, 0.69814654, 0.97016248, 0.71725408, 0.87702738, 0.76615487, 0.57871812, 0.53222417, 0.9976855, 0.80930099, 0.50962849, 0.94555126]\n"
          ]
        }
      ]
    },
    {
      "cell_type": "markdown",
      "metadata": {
        "id": "y2HdqpxpCTMk"
      },
      "source": [
        "### 5. Use a list comprehension to create and print a list containing all elements of the 5 x 2 x 3 Numpy array below."
      ]
    },
    {
      "cell_type": "code",
      "metadata": {
        "id": "mDAar1MXCTMk",
        "outputId": "738cde1d-394b-4eda-e782-8d97f11e9b09"
      },
      "source": [
        "b = np.array([[[0.55867166, 0.06210792, 0.08147297],\n",
        "        [0.82579068, 0.91512478, 0.06833034]],\n",
        "\n",
        "       [[0.05440634, 0.65857693, 0.30296619],\n",
        "        [0.06769833, 0.96031863, 0.51293743]],\n",
        "\n",
        "       [[0.09143215, 0.71893382, 0.45850679],\n",
        "        [0.58256464, 0.59005654, 0.56266457]],\n",
        "\n",
        "       [[0.71600294, 0.87392666, 0.11434044],\n",
        "        [0.8694668 , 0.65669313, 0.10708681]],\n",
        "\n",
        "       [[0.07529684, 0.46470767, 0.47984544],\n",
        "        [0.65368638, 0.14901286, 0.23760688]]])\n",
        "\n",
        "new_list3 = [val for row in b for value in row for val in value]\n",
        "print(new_list3)"
      ],
      "execution_count": null,
      "outputs": [
        {
          "name": "stdout",
          "output_type": "stream",
          "text": [
            "[0.55867166, 0.06210792, 0.08147297, 0.82579068, 0.91512478, 0.06833034, 0.05440634, 0.65857693, 0.30296619, 0.06769833, 0.96031863, 0.51293743, 0.09143215, 0.71893382, 0.45850679, 0.58256464, 0.59005654, 0.56266457, 0.71600294, 0.87392666, 0.11434044, 0.8694668, 0.65669313, 0.10708681, 0.07529684, 0.46470767, 0.47984544, 0.65368638, 0.14901286, 0.23760688]\n"
          ]
        }
      ]
    },
    {
      "cell_type": "markdown",
      "metadata": {
        "id": "flRPY1ZlCTMl"
      },
      "source": [
        "### 6. Add a condition to the list comprehension above so that the last value in each subarray is printed, but only if it is less than or equal to 0.5."
      ]
    },
    {
      "cell_type": "code",
      "metadata": {
        "id": "Tvl0KfXtCTMl",
        "outputId": "b4175b48-30e5-4665-faf2-8bf0032ff84c"
      },
      "source": [
        "new_list4 = [vals[2] for rows in b for vals in rows if vals[2] <= 0.5] \n",
        "print(new_list4)\n"
      ],
      "execution_count": null,
      "outputs": [
        {
          "name": "stdout",
          "output_type": "stream",
          "text": [
            "[0.08147297, 0.06833034, 0.30296619, 0.45850679, 0.11434044, 0.10708681, 0.47984544, 0.23760688]\n"
          ]
        }
      ]
    },
    {
      "cell_type": "markdown",
      "metadata": {
        "id": "t9TMAjADCTMl"
      },
      "source": [
        "### 7. Use a list comprehension to select and print the names of all CSV files in the */data* directory."
      ]
    },
    {
      "cell_type": "code",
      "metadata": {
        "colab": {
          "base_uri": "https://localhost:8080/"
        },
        "id": "dqUK24osCTMm",
        "outputId": "b5be2870-902f-495c-aa89-931744822583"
      },
      "source": [
        "file_list = [f for f in os.listdir(r'/content/data') if f.endswith('.csv')]\n",
        "\n",
        "file_list"
      ],
      "execution_count": null,
      "outputs": [
        {
          "output_type": "execute_result",
          "data": {
            "text/plain": [
              "['sample_file_5.csv',\n",
              " 'sample_file_0.csv',\n",
              " 'sample_file_2.csv',\n",
              " 'sample_file_6.csv',\n",
              " 'sample_file_7.csv',\n",
              " 'sample_file_8.csv',\n",
              " 'sample_file_1.csv',\n",
              " 'sample_file_9.csv',\n",
              " 'sample_file_4.csv',\n",
              " 'sample_file_3.csv']"
            ]
          },
          "metadata": {},
          "execution_count": 15
        }
      ]
    },
    {
      "cell_type": "markdown",
      "metadata": {
        "id": "VRc0DIJ2CTMm"
      },
      "source": [
        "### 8. Use a list comprehension and the Pandas `read_csv` and `concat` methods to read all CSV files in the */data* directory and combine them into a single data frame. Display the top 10 rows of the resulting data frame."
      ]
    },
    {
      "cell_type": "code",
      "metadata": {
        "colab": {
          "base_uri": "https://localhost:8080/",
          "height": 377
        },
        "id": "5WwiwjsqCTMn",
        "outputId": "46ebd0d7-8e84-4412-a8af-5ff7decef23a"
      },
      "source": [
        "data_sets = [pd.read_csv(os.path.join('/content/data', f)) for f in file_list]\n",
        "data = pd.concat(data_sets, axis=0)\n",
        "data.head(10)"
      ],
      "execution_count": null,
      "outputs": [
        {
          "output_type": "execute_result",
          "data": {
            "text/html": [
              "<div>\n",
              "<style scoped>\n",
              "    .dataframe tbody tr th:only-of-type {\n",
              "        vertical-align: middle;\n",
              "    }\n",
              "\n",
              "    .dataframe tbody tr th {\n",
              "        vertical-align: top;\n",
              "    }\n",
              "\n",
              "    .dataframe thead th {\n",
              "        text-align: right;\n",
              "    }\n",
              "</style>\n",
              "<table border=\"1\" class=\"dataframe\">\n",
              "  <thead>\n",
              "    <tr style=\"text-align: right;\">\n",
              "      <th></th>\n",
              "      <th>0</th>\n",
              "      <th>1</th>\n",
              "      <th>2</th>\n",
              "      <th>3</th>\n",
              "      <th>4</th>\n",
              "      <th>5</th>\n",
              "      <th>6</th>\n",
              "      <th>7</th>\n",
              "      <th>8</th>\n",
              "      <th>9</th>\n",
              "      <th>10</th>\n",
              "      <th>11</th>\n",
              "      <th>12</th>\n",
              "      <th>13</th>\n",
              "      <th>14</th>\n",
              "      <th>15</th>\n",
              "      <th>16</th>\n",
              "      <th>17</th>\n",
              "      <th>18</th>\n",
              "      <th>19</th>\n",
              "    </tr>\n",
              "  </thead>\n",
              "  <tbody>\n",
              "    <tr>\n",
              "      <th>0</th>\n",
              "      <td>0.437114</td>\n",
              "      <td>0.156941</td>\n",
              "      <td>0.183148</td>\n",
              "      <td>0.817785</td>\n",
              "      <td>0.747632</td>\n",
              "      <td>0.726855</td>\n",
              "      <td>0.944758</td>\n",
              "      <td>0.287449</td>\n",
              "      <td>0.792692</td>\n",
              "      <td>0.080025</td>\n",
              "      <td>0.079886</td>\n",
              "      <td>0.067887</td>\n",
              "      <td>0.543498</td>\n",
              "      <td>0.711158</td>\n",
              "      <td>0.960030</td>\n",
              "      <td>0.810807</td>\n",
              "      <td>0.579395</td>\n",
              "      <td>0.660811</td>\n",
              "      <td>0.520295</td>\n",
              "      <td>0.945250</td>\n",
              "    </tr>\n",
              "    <tr>\n",
              "      <th>1</th>\n",
              "      <td>0.213337</td>\n",
              "      <td>0.503490</td>\n",
              "      <td>0.802663</td>\n",
              "      <td>0.443484</td>\n",
              "      <td>0.700893</td>\n",
              "      <td>0.129329</td>\n",
              "      <td>0.007176</td>\n",
              "      <td>0.027735</td>\n",
              "      <td>0.427692</td>\n",
              "      <td>0.156926</td>\n",
              "      <td>0.486138</td>\n",
              "      <td>0.571278</td>\n",
              "      <td>0.940414</td>\n",
              "      <td>0.940730</td>\n",
              "      <td>0.933377</td>\n",
              "      <td>0.427869</td>\n",
              "      <td>0.654402</td>\n",
              "      <td>0.407580</td>\n",
              "      <td>0.122453</td>\n",
              "      <td>0.115311</td>\n",
              "    </tr>\n",
              "    <tr>\n",
              "      <th>2</th>\n",
              "      <td>0.625692</td>\n",
              "      <td>0.184609</td>\n",
              "      <td>0.120652</td>\n",
              "      <td>0.410955</td>\n",
              "      <td>0.408272</td>\n",
              "      <td>0.686792</td>\n",
              "      <td>0.480168</td>\n",
              "      <td>0.286901</td>\n",
              "      <td>0.320112</td>\n",
              "      <td>0.048815</td>\n",
              "      <td>0.768725</td>\n",
              "      <td>0.461014</td>\n",
              "      <td>0.090451</td>\n",
              "      <td>0.720938</td>\n",
              "      <td>0.192501</td>\n",
              "      <td>0.219077</td>\n",
              "      <td>0.034113</td>\n",
              "      <td>0.858956</td>\n",
              "      <td>0.816036</td>\n",
              "      <td>0.582192</td>\n",
              "    </tr>\n",
              "    <tr>\n",
              "      <th>3</th>\n",
              "      <td>0.642007</td>\n",
              "      <td>0.175592</td>\n",
              "      <td>0.476889</td>\n",
              "      <td>0.451096</td>\n",
              "      <td>0.803491</td>\n",
              "      <td>0.272613</td>\n",
              "      <td>0.576037</td>\n",
              "      <td>0.774269</td>\n",
              "      <td>0.323313</td>\n",
              "      <td>0.349850</td>\n",
              "      <td>0.413465</td>\n",
              "      <td>0.641111</td>\n",
              "      <td>0.841210</td>\n",
              "      <td>0.668661</td>\n",
              "      <td>0.101031</td>\n",
              "      <td>0.972135</td>\n",
              "      <td>0.479581</td>\n",
              "      <td>0.149982</td>\n",
              "      <td>0.035150</td>\n",
              "      <td>0.528075</td>\n",
              "    </tr>\n",
              "    <tr>\n",
              "      <th>4</th>\n",
              "      <td>0.809129</td>\n",
              "      <td>0.549374</td>\n",
              "      <td>0.055405</td>\n",
              "      <td>0.857802</td>\n",
              "      <td>0.760688</td>\n",
              "      <td>0.662257</td>\n",
              "      <td>0.453289</td>\n",
              "      <td>0.658329</td>\n",
              "      <td>0.973615</td>\n",
              "      <td>0.449771</td>\n",
              "      <td>0.615229</td>\n",
              "      <td>0.467290</td>\n",
              "      <td>0.158077</td>\n",
              "      <td>0.305716</td>\n",
              "      <td>0.730355</td>\n",
              "      <td>0.412336</td>\n",
              "      <td>0.469142</td>\n",
              "      <td>0.078734</td>\n",
              "      <td>0.448741</td>\n",
              "      <td>0.827487</td>\n",
              "    </tr>\n",
              "    <tr>\n",
              "      <th>0</th>\n",
              "      <td>0.734751</td>\n",
              "      <td>0.195362</td>\n",
              "      <td>0.734309</td>\n",
              "      <td>0.598184</td>\n",
              "      <td>0.763433</td>\n",
              "      <td>0.263434</td>\n",
              "      <td>0.868066</td>\n",
              "      <td>0.058092</td>\n",
              "      <td>0.753502</td>\n",
              "      <td>0.587513</td>\n",
              "      <td>0.311608</td>\n",
              "      <td>0.178356</td>\n",
              "      <td>0.182922</td>\n",
              "      <td>0.147631</td>\n",
              "      <td>0.391188</td>\n",
              "      <td>0.816049</td>\n",
              "      <td>0.749068</td>\n",
              "      <td>0.293260</td>\n",
              "      <td>0.937828</td>\n",
              "      <td>0.880858</td>\n",
              "    </tr>\n",
              "    <tr>\n",
              "      <th>1</th>\n",
              "      <td>0.772607</td>\n",
              "      <td>0.445391</td>\n",
              "      <td>0.249642</td>\n",
              "      <td>0.787922</td>\n",
              "      <td>0.598583</td>\n",
              "      <td>0.827238</td>\n",
              "      <td>0.624126</td>\n",
              "      <td>0.601524</td>\n",
              "      <td>0.688753</td>\n",
              "      <td>0.338870</td>\n",
              "      <td>0.081595</td>\n",
              "      <td>0.471474</td>\n",
              "      <td>0.267443</td>\n",
              "      <td>0.453351</td>\n",
              "      <td>0.800716</td>\n",
              "      <td>0.045749</td>\n",
              "      <td>0.683793</td>\n",
              "      <td>0.389789</td>\n",
              "      <td>0.016787</td>\n",
              "      <td>0.503695</td>\n",
              "    </tr>\n",
              "    <tr>\n",
              "      <th>2</th>\n",
              "      <td>0.226428</td>\n",
              "      <td>0.268764</td>\n",
              "      <td>0.694262</td>\n",
              "      <td>0.622335</td>\n",
              "      <td>0.063843</td>\n",
              "      <td>0.122683</td>\n",
              "      <td>0.815625</td>\n",
              "      <td>0.584542</td>\n",
              "      <td>0.032594</td>\n",
              "      <td>0.589775</td>\n",
              "      <td>0.764350</td>\n",
              "      <td>0.650973</td>\n",
              "      <td>0.565705</td>\n",
              "      <td>0.691784</td>\n",
              "      <td>0.265223</td>\n",
              "      <td>0.739031</td>\n",
              "      <td>0.560394</td>\n",
              "      <td>0.334802</td>\n",
              "      <td>0.517694</td>\n",
              "      <td>0.646110</td>\n",
              "    </tr>\n",
              "    <tr>\n",
              "      <th>3</th>\n",
              "      <td>0.362748</td>\n",
              "      <td>0.495430</td>\n",
              "      <td>0.113876</td>\n",
              "      <td>0.594149</td>\n",
              "      <td>0.612522</td>\n",
              "      <td>0.625204</td>\n",
              "      <td>0.864050</td>\n",
              "      <td>0.260279</td>\n",
              "      <td>0.528873</td>\n",
              "      <td>0.168043</td>\n",
              "      <td>0.715929</td>\n",
              "      <td>0.677014</td>\n",
              "      <td>0.175735</td>\n",
              "      <td>0.632370</td>\n",
              "      <td>0.926715</td>\n",
              "      <td>0.085675</td>\n",
              "      <td>0.120525</td>\n",
              "      <td>0.141746</td>\n",
              "      <td>0.771144</td>\n",
              "      <td>0.489660</td>\n",
              "    </tr>\n",
              "    <tr>\n",
              "      <th>4</th>\n",
              "      <td>0.033415</td>\n",
              "      <td>0.340433</td>\n",
              "      <td>0.464971</td>\n",
              "      <td>0.363737</td>\n",
              "      <td>0.025815</td>\n",
              "      <td>0.434129</td>\n",
              "      <td>0.415163</td>\n",
              "      <td>0.892210</td>\n",
              "      <td>0.381701</td>\n",
              "      <td>0.415264</td>\n",
              "      <td>0.790801</td>\n",
              "      <td>0.696930</td>\n",
              "      <td>0.819751</td>\n",
              "      <td>0.944029</td>\n",
              "      <td>0.869965</td>\n",
              "      <td>0.041723</td>\n",
              "      <td>0.819140</td>\n",
              "      <td>0.676051</td>\n",
              "      <td>0.109349</td>\n",
              "      <td>0.872947</td>\n",
              "    </tr>\n",
              "  </tbody>\n",
              "</table>\n",
              "</div>"
            ],
            "text/plain": [
              "          0         1         2  ...        17        18        19\n",
              "0  0.437114  0.156941  0.183148  ...  0.660811  0.520295  0.945250\n",
              "1  0.213337  0.503490  0.802663  ...  0.407580  0.122453  0.115311\n",
              "2  0.625692  0.184609  0.120652  ...  0.858956  0.816036  0.582192\n",
              "3  0.642007  0.175592  0.476889  ...  0.149982  0.035150  0.528075\n",
              "4  0.809129  0.549374  0.055405  ...  0.078734  0.448741  0.827487\n",
              "0  0.734751  0.195362  0.734309  ...  0.293260  0.937828  0.880858\n",
              "1  0.772607  0.445391  0.249642  ...  0.389789  0.016787  0.503695\n",
              "2  0.226428  0.268764  0.694262  ...  0.334802  0.517694  0.646110\n",
              "3  0.362748  0.495430  0.113876  ...  0.141746  0.771144  0.489660\n",
              "4  0.033415  0.340433  0.464971  ...  0.676051  0.109349  0.872947\n",
              "\n",
              "[10 rows x 20 columns]"
            ]
          },
          "metadata": {},
          "execution_count": 17
        }
      ]
    },
    {
      "cell_type": "markdown",
      "metadata": {
        "id": "uyySC9m3CTMn"
      },
      "source": [
        "### 9. Use a list comprehension to select and print the column numbers for columns from the data set whose median is less than 0.48."
      ]
    },
    {
      "cell_type": "code",
      "metadata": {
        "id": "xzYk5zScCTMn",
        "outputId": "2ad7e85e-c51e-4ff0-cf45-2fb8757f2ff5"
      },
      "source": [
        "selected_columns = [col for col in data._get_numeric_data() if data[col].median() < 0.48]\n",
        "\n",
        "selected_columns"
      ],
      "execution_count": null,
      "outputs": [
        {
          "data": {
            "text/plain": [
              "['2', '9', '12', '14', '17']"
            ]
          },
          "execution_count": 44,
          "metadata": {},
          "output_type": "execute_result"
        }
      ]
    },
    {
      "cell_type": "markdown",
      "metadata": {
        "id": "WbYIC4PhCTMo"
      },
      "source": [
        "### 10. Use a list comprehension to add a new column (20) to the data frame whose values are the values in column 19 minus 0.1. Display the top 10 rows of the resulting data frame."
      ]
    },
    {
      "cell_type": "code",
      "metadata": {
        "colab": {
          "base_uri": "https://localhost:8080/",
          "height": 377
        },
        "id": "_pOdWhfFCTMo",
        "outputId": "fd9c24e3-4d93-4e4e-8073-42f6aa709740"
      },
      "source": [
        "\n",
        "\n",
        "data['20'] = [numb - 0.1 for numb in data['19']]\n",
        "\n",
        "data.head(10)"
      ],
      "execution_count": null,
      "outputs": [
        {
          "output_type": "execute_result",
          "data": {
            "text/html": [
              "<div>\n",
              "<style scoped>\n",
              "    .dataframe tbody tr th:only-of-type {\n",
              "        vertical-align: middle;\n",
              "    }\n",
              "\n",
              "    .dataframe tbody tr th {\n",
              "        vertical-align: top;\n",
              "    }\n",
              "\n",
              "    .dataframe thead th {\n",
              "        text-align: right;\n",
              "    }\n",
              "</style>\n",
              "<table border=\"1\" class=\"dataframe\">\n",
              "  <thead>\n",
              "    <tr style=\"text-align: right;\">\n",
              "      <th></th>\n",
              "      <th>0</th>\n",
              "      <th>1</th>\n",
              "      <th>2</th>\n",
              "      <th>3</th>\n",
              "      <th>4</th>\n",
              "      <th>5</th>\n",
              "      <th>6</th>\n",
              "      <th>7</th>\n",
              "      <th>8</th>\n",
              "      <th>9</th>\n",
              "      <th>10</th>\n",
              "      <th>11</th>\n",
              "      <th>12</th>\n",
              "      <th>13</th>\n",
              "      <th>14</th>\n",
              "      <th>15</th>\n",
              "      <th>16</th>\n",
              "      <th>17</th>\n",
              "      <th>18</th>\n",
              "      <th>19</th>\n",
              "      <th>20</th>\n",
              "    </tr>\n",
              "  </thead>\n",
              "  <tbody>\n",
              "    <tr>\n",
              "      <th>0</th>\n",
              "      <td>0.437114</td>\n",
              "      <td>0.156941</td>\n",
              "      <td>0.183148</td>\n",
              "      <td>0.817785</td>\n",
              "      <td>0.747632</td>\n",
              "      <td>0.726855</td>\n",
              "      <td>0.944758</td>\n",
              "      <td>0.287449</td>\n",
              "      <td>0.792692</td>\n",
              "      <td>0.080025</td>\n",
              "      <td>0.079886</td>\n",
              "      <td>0.067887</td>\n",
              "      <td>0.543498</td>\n",
              "      <td>0.711158</td>\n",
              "      <td>0.960030</td>\n",
              "      <td>0.810807</td>\n",
              "      <td>0.579395</td>\n",
              "      <td>0.660811</td>\n",
              "      <td>0.520295</td>\n",
              "      <td>0.945250</td>\n",
              "      <td>0.845250</td>\n",
              "    </tr>\n",
              "    <tr>\n",
              "      <th>1</th>\n",
              "      <td>0.213337</td>\n",
              "      <td>0.503490</td>\n",
              "      <td>0.802663</td>\n",
              "      <td>0.443484</td>\n",
              "      <td>0.700893</td>\n",
              "      <td>0.129329</td>\n",
              "      <td>0.007176</td>\n",
              "      <td>0.027735</td>\n",
              "      <td>0.427692</td>\n",
              "      <td>0.156926</td>\n",
              "      <td>0.486138</td>\n",
              "      <td>0.571278</td>\n",
              "      <td>0.940414</td>\n",
              "      <td>0.940730</td>\n",
              "      <td>0.933377</td>\n",
              "      <td>0.427869</td>\n",
              "      <td>0.654402</td>\n",
              "      <td>0.407580</td>\n",
              "      <td>0.122453</td>\n",
              "      <td>0.115311</td>\n",
              "      <td>0.015311</td>\n",
              "    </tr>\n",
              "    <tr>\n",
              "      <th>2</th>\n",
              "      <td>0.625692</td>\n",
              "      <td>0.184609</td>\n",
              "      <td>0.120652</td>\n",
              "      <td>0.410955</td>\n",
              "      <td>0.408272</td>\n",
              "      <td>0.686792</td>\n",
              "      <td>0.480168</td>\n",
              "      <td>0.286901</td>\n",
              "      <td>0.320112</td>\n",
              "      <td>0.048815</td>\n",
              "      <td>0.768725</td>\n",
              "      <td>0.461014</td>\n",
              "      <td>0.090451</td>\n",
              "      <td>0.720938</td>\n",
              "      <td>0.192501</td>\n",
              "      <td>0.219077</td>\n",
              "      <td>0.034113</td>\n",
              "      <td>0.858956</td>\n",
              "      <td>0.816036</td>\n",
              "      <td>0.582192</td>\n",
              "      <td>0.482192</td>\n",
              "    </tr>\n",
              "    <tr>\n",
              "      <th>3</th>\n",
              "      <td>0.642007</td>\n",
              "      <td>0.175592</td>\n",
              "      <td>0.476889</td>\n",
              "      <td>0.451096</td>\n",
              "      <td>0.803491</td>\n",
              "      <td>0.272613</td>\n",
              "      <td>0.576037</td>\n",
              "      <td>0.774269</td>\n",
              "      <td>0.323313</td>\n",
              "      <td>0.349850</td>\n",
              "      <td>0.413465</td>\n",
              "      <td>0.641111</td>\n",
              "      <td>0.841210</td>\n",
              "      <td>0.668661</td>\n",
              "      <td>0.101031</td>\n",
              "      <td>0.972135</td>\n",
              "      <td>0.479581</td>\n",
              "      <td>0.149982</td>\n",
              "      <td>0.035150</td>\n",
              "      <td>0.528075</td>\n",
              "      <td>0.428075</td>\n",
              "    </tr>\n",
              "    <tr>\n",
              "      <th>4</th>\n",
              "      <td>0.809129</td>\n",
              "      <td>0.549374</td>\n",
              "      <td>0.055405</td>\n",
              "      <td>0.857802</td>\n",
              "      <td>0.760688</td>\n",
              "      <td>0.662257</td>\n",
              "      <td>0.453289</td>\n",
              "      <td>0.658329</td>\n",
              "      <td>0.973615</td>\n",
              "      <td>0.449771</td>\n",
              "      <td>0.615229</td>\n",
              "      <td>0.467290</td>\n",
              "      <td>0.158077</td>\n",
              "      <td>0.305716</td>\n",
              "      <td>0.730355</td>\n",
              "      <td>0.412336</td>\n",
              "      <td>0.469142</td>\n",
              "      <td>0.078734</td>\n",
              "      <td>0.448741</td>\n",
              "      <td>0.827487</td>\n",
              "      <td>0.727487</td>\n",
              "    </tr>\n",
              "    <tr>\n",
              "      <th>0</th>\n",
              "      <td>0.734751</td>\n",
              "      <td>0.195362</td>\n",
              "      <td>0.734309</td>\n",
              "      <td>0.598184</td>\n",
              "      <td>0.763433</td>\n",
              "      <td>0.263434</td>\n",
              "      <td>0.868066</td>\n",
              "      <td>0.058092</td>\n",
              "      <td>0.753502</td>\n",
              "      <td>0.587513</td>\n",
              "      <td>0.311608</td>\n",
              "      <td>0.178356</td>\n",
              "      <td>0.182922</td>\n",
              "      <td>0.147631</td>\n",
              "      <td>0.391188</td>\n",
              "      <td>0.816049</td>\n",
              "      <td>0.749068</td>\n",
              "      <td>0.293260</td>\n",
              "      <td>0.937828</td>\n",
              "      <td>0.880858</td>\n",
              "      <td>0.780858</td>\n",
              "    </tr>\n",
              "    <tr>\n",
              "      <th>1</th>\n",
              "      <td>0.772607</td>\n",
              "      <td>0.445391</td>\n",
              "      <td>0.249642</td>\n",
              "      <td>0.787922</td>\n",
              "      <td>0.598583</td>\n",
              "      <td>0.827238</td>\n",
              "      <td>0.624126</td>\n",
              "      <td>0.601524</td>\n",
              "      <td>0.688753</td>\n",
              "      <td>0.338870</td>\n",
              "      <td>0.081595</td>\n",
              "      <td>0.471474</td>\n",
              "      <td>0.267443</td>\n",
              "      <td>0.453351</td>\n",
              "      <td>0.800716</td>\n",
              "      <td>0.045749</td>\n",
              "      <td>0.683793</td>\n",
              "      <td>0.389789</td>\n",
              "      <td>0.016787</td>\n",
              "      <td>0.503695</td>\n",
              "      <td>0.403695</td>\n",
              "    </tr>\n",
              "    <tr>\n",
              "      <th>2</th>\n",
              "      <td>0.226428</td>\n",
              "      <td>0.268764</td>\n",
              "      <td>0.694262</td>\n",
              "      <td>0.622335</td>\n",
              "      <td>0.063843</td>\n",
              "      <td>0.122683</td>\n",
              "      <td>0.815625</td>\n",
              "      <td>0.584542</td>\n",
              "      <td>0.032594</td>\n",
              "      <td>0.589775</td>\n",
              "      <td>0.764350</td>\n",
              "      <td>0.650973</td>\n",
              "      <td>0.565705</td>\n",
              "      <td>0.691784</td>\n",
              "      <td>0.265223</td>\n",
              "      <td>0.739031</td>\n",
              "      <td>0.560394</td>\n",
              "      <td>0.334802</td>\n",
              "      <td>0.517694</td>\n",
              "      <td>0.646110</td>\n",
              "      <td>0.546110</td>\n",
              "    </tr>\n",
              "    <tr>\n",
              "      <th>3</th>\n",
              "      <td>0.362748</td>\n",
              "      <td>0.495430</td>\n",
              "      <td>0.113876</td>\n",
              "      <td>0.594149</td>\n",
              "      <td>0.612522</td>\n",
              "      <td>0.625204</td>\n",
              "      <td>0.864050</td>\n",
              "      <td>0.260279</td>\n",
              "      <td>0.528873</td>\n",
              "      <td>0.168043</td>\n",
              "      <td>0.715929</td>\n",
              "      <td>0.677014</td>\n",
              "      <td>0.175735</td>\n",
              "      <td>0.632370</td>\n",
              "      <td>0.926715</td>\n",
              "      <td>0.085675</td>\n",
              "      <td>0.120525</td>\n",
              "      <td>0.141746</td>\n",
              "      <td>0.771144</td>\n",
              "      <td>0.489660</td>\n",
              "      <td>0.389660</td>\n",
              "    </tr>\n",
              "    <tr>\n",
              "      <th>4</th>\n",
              "      <td>0.033415</td>\n",
              "      <td>0.340433</td>\n",
              "      <td>0.464971</td>\n",
              "      <td>0.363737</td>\n",
              "      <td>0.025815</td>\n",
              "      <td>0.434129</td>\n",
              "      <td>0.415163</td>\n",
              "      <td>0.892210</td>\n",
              "      <td>0.381701</td>\n",
              "      <td>0.415264</td>\n",
              "      <td>0.790801</td>\n",
              "      <td>0.696930</td>\n",
              "      <td>0.819751</td>\n",
              "      <td>0.944029</td>\n",
              "      <td>0.869965</td>\n",
              "      <td>0.041723</td>\n",
              "      <td>0.819140</td>\n",
              "      <td>0.676051</td>\n",
              "      <td>0.109349</td>\n",
              "      <td>0.872947</td>\n",
              "      <td>0.772947</td>\n",
              "    </tr>\n",
              "  </tbody>\n",
              "</table>\n",
              "</div>"
            ],
            "text/plain": [
              "          0         1         2  ...        18        19        20\n",
              "0  0.437114  0.156941  0.183148  ...  0.520295  0.945250  0.845250\n",
              "1  0.213337  0.503490  0.802663  ...  0.122453  0.115311  0.015311\n",
              "2  0.625692  0.184609  0.120652  ...  0.816036  0.582192  0.482192\n",
              "3  0.642007  0.175592  0.476889  ...  0.035150  0.528075  0.428075\n",
              "4  0.809129  0.549374  0.055405  ...  0.448741  0.827487  0.727487\n",
              "0  0.734751  0.195362  0.734309  ...  0.937828  0.880858  0.780858\n",
              "1  0.772607  0.445391  0.249642  ...  0.016787  0.503695  0.403695\n",
              "2  0.226428  0.268764  0.694262  ...  0.517694  0.646110  0.546110\n",
              "3  0.362748  0.495430  0.113876  ...  0.771144  0.489660  0.389660\n",
              "4  0.033415  0.340433  0.464971  ...  0.109349  0.872947  0.772947\n",
              "\n",
              "[10 rows x 21 columns]"
            ]
          },
          "metadata": {},
          "execution_count": 23
        }
      ]
    },
    {
      "cell_type": "markdown",
      "metadata": {
        "id": "MqvSDURACTMo"
      },
      "source": [
        "### 11. Use a list comprehension to extract and print all values from the data set that are between 0.7 and 0.75."
      ]
    },
    {
      "cell_type": "code",
      "metadata": {
        "id": "eD5vjD7OCTMp"
      },
      "source": [
        "\n",
        "newlist = [val for number in data.values.tolist() for val in number if (val > 0.7) and (val < 0.75)]"
      ],
      "execution_count": null,
      "outputs": []
    },
    {
      "cell_type": "code",
      "metadata": {
        "colab": {
          "base_uri": "https://localhost:8080/"
        },
        "id": "FpFBGF93TdOx",
        "outputId": "c48b8034-ee59-48f3-d5b0-cc3895116d2a"
      },
      "source": [
        "print(newlist)"
      ],
      "execution_count": null,
      "outputs": [
        {
          "output_type": "stream",
          "name": "stdout",
          "text": [
            "[0.7476323136755818, 0.7268545088531969, 0.7111584953876777, 0.7008930873050235, 0.7209375615129192, 0.7303553716733908, 0.7274869207330491, 0.7347510852128797, 0.7343092314001137, 0.7490680818183477, 0.7390312927111312, 0.7159290265157912, 0.7033930409580709, 0.7013619954419494, 0.7396561066717461, 0.7025657075988269, 0.7298115760258881, 0.7294980584878026, 0.7215147068185102, 0.7130781095091867, 0.7393833032570581, 0.7258310816144985, 0.7358941798147411, 0.736029494090402, 0.7085098152301276, 0.7472962776291713, 0.7329024831531535, 0.7124169515124726, 0.71223975981198, 0.7365416322783028, 0.7133690799930356, 0.7078738356977186, 0.7032248108904495, 0.7196096371031628, 0.7244863338885654, 0.7321533684342264, 0.7376946446827494, 0.7132714209987683, 0.7023481768180954, 0.7356923324968598, 0.7357618655811269, 0.7306642125209889, 0.7051334608870933, 0.7280006345208285, 0.7150799992177622, 0.7321333453970806, 0.7173964318670598, 0.7383982036983279, 0.7178166705957928, 0.7088042362916818, 0.7374449181749492, 0.7264121114538001, 0.7133695725698419, 0.7045750112959754]\n"
          ]
        }
      ]
    },
    {
      "cell_type": "code",
      "metadata": {
        "id": "NpQFFUt6Xu7V"
      },
      "source": [
        ""
      ],
      "execution_count": null,
      "outputs": []
    }
  ]
}